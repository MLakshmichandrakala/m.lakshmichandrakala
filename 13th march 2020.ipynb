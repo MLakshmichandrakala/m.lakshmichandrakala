{
 "cells": [
  {
   "cell_type": "code",
   "execution_count": 1,
   "metadata": {},
   "outputs": [
    {
     "data": {
      "text/plain": [
       "set"
      ]
     },
     "execution_count": 1,
     "metadata": {},
     "output_type": "execute_result"
    }
   ],
   "source": [
    "list\n",
    "tuple\n",
    "set"
   ]
  },
  {
   "cell_type": "code",
   "execution_count": 4,
   "metadata": {},
   "outputs": [],
   "source": [
    "l=[56,78,12]\n",
    "students=[(\"hema\",557),78,'python']"
   ]
  },
  {
   "cell_type": "markdown",
   "metadata": {},
   "source": [
    "# Dictionary\n",
    "    -how to create an empty dictionary\n",
    "        -{}\n",
    "        -dict()\n",
    "    -how to add elements\n",
    "        -d['new key']=value\n",
    "    -what are the rules for keys\n",
    "        -immutable data as key\n",
    "    -how the operators will works on dict\n",
    "    -dictionary methods "
   ]
  },
  {
   "cell_type": "code",
   "execution_count": 5,
   "metadata": {},
   "outputs": [
    {
     "name": "stdout",
     "output_type": "stream",
     "text": [
      "{}\n"
     ]
    }
   ],
   "source": [
    "empty_marks={}\n",
    "print(empty_marks)"
   ]
  },
  {
   "cell_type": "code",
   "execution_count": 6,
   "metadata": {},
   "outputs": [
    {
     "name": "stdout",
     "output_type": "stream",
     "text": [
      "{} <class 'dict'>\n"
     ]
    }
   ],
   "source": [
    "empty_marks={}\n",
    "print(empty_marks,type(empty_marks))"
   ]
  },
  {
   "cell_type": "code",
   "execution_count": 7,
   "metadata": {},
   "outputs": [
    {
     "ename": "NameError",
     "evalue": "name 'key1' is not defined",
     "output_type": "error",
     "traceback": [
      "\u001b[1;31m---------------------------------------------------------------------------\u001b[0m",
      "\u001b[1;31mNameError\u001b[0m                                 Traceback (most recent call last)",
      "\u001b[1;32m<ipython-input-7-7655454ee3c4>\u001b[0m in \u001b[0;36m<module>\u001b[1;34m\u001b[0m\n\u001b[1;32m----> 1\u001b[1;33m \u001b[1;33m{\u001b[0m\u001b[0mkey1\u001b[0m\u001b[1;33m:\u001b[0m\u001b[0mvalue1\u001b[0m\u001b[1;33m,\u001b[0m\u001b[0mkey2\u001b[0m\u001b[1;33m:\u001b[0m\u001b[0mvalue2\u001b[0m\u001b[1;33m,\u001b[0m\u001b[0mkey3\u001b[0m\u001b[1;33m:\u001b[0m\u001b[0mvalue3\u001b[0m\u001b[1;33m}\u001b[0m\u001b[1;33m\u001b[0m\u001b[1;33m\u001b[0m\u001b[0m\n\u001b[0m",
      "\u001b[1;31mNameError\u001b[0m: name 'key1' is not defined"
     ]
    }
   ],
   "source": [
    "{key1:value1,key2:value2,key3:value3}"
   ]
  },
  {
   "cell_type": "code",
   "execution_count": 8,
   "metadata": {},
   "outputs": [
    {
     "name": "stdout",
     "output_type": "stream",
     "text": [
      "{'415': 78, '890': 92} {'415': 78, '890': 92}\n"
     ]
    }
   ],
   "source": [
    "marks={\"415\":78,\"890\":92}\n",
    "marks1={\"415\":78,\"890\":92}\n",
    "print(marks,marks1)"
   ]
  },
  {
   "cell_type": "code",
   "execution_count": 9,
   "metadata": {},
   "outputs": [
    {
     "ename": "TypeError",
     "evalue": "unhashable type: 'list'",
     "output_type": "error",
     "traceback": [
      "\u001b[1;31m---------------------------------------------------------------------------\u001b[0m",
      "\u001b[1;31mTypeError\u001b[0m                                 Traceback (most recent call last)",
      "\u001b[1;32m<ipython-input-9-c43494a758f3>\u001b[0m in \u001b[0;36m<module>\u001b[1;34m\u001b[0m\n\u001b[1;32m----> 1\u001b[1;33m \u001b[0mmarks_names\u001b[0m\u001b[1;33m=\u001b[0m\u001b[1;33m{\u001b[0m\u001b[1;33m[\u001b[0m\u001b[1;34m'hema'\u001b[0m\u001b[1;33m,\u001b[0m\u001b[1;36m567\u001b[0m\u001b[1;33m]\u001b[0m\u001b[1;33m:\u001b[0m\u001b[1;36m98\u001b[0m\u001b[1;33m,\u001b[0m\u001b[1;33m[\u001b[0m\u001b[1;34m\"raj\"\u001b[0m\u001b[1;33m,\u001b[0m\u001b[1;36m512\u001b[0m\u001b[1;33m]\u001b[0m\u001b[1;33m:\u001b[0m\u001b[1;36m56\u001b[0m\u001b[1;33m}\u001b[0m\u001b[1;33m\u001b[0m\u001b[1;33m\u001b[0m\u001b[0m\n\u001b[0m\u001b[0;32m      2\u001b[0m \u001b[0mmarks_names\u001b[0m\u001b[1;33m\u001b[0m\u001b[1;33m\u001b[0m\u001b[0m\n",
      "\u001b[1;31mTypeError\u001b[0m: unhashable type: 'list'"
     ]
    }
   ],
   "source": [
    "# wrong method \n",
    "marks_names={['hema',567]:98,[\"raj\",512]:56}\n",
    "marks_names"
   ]
  },
  {
   "cell_type": "code",
   "execution_count": 10,
   "metadata": {},
   "outputs": [
    {
     "data": {
      "text/plain": [
       "{('hema', 567): 98, ('raj', 512): 56}"
      ]
     },
     "execution_count": 10,
     "metadata": {},
     "output_type": "execute_result"
    }
   ],
   "source": [
    "# right method\n",
    "marks_names={('hema',567):98,(\"raj\",512):56}\n",
    "marks_names"
   ]
  },
  {
   "cell_type": "code",
   "execution_count": 11,
   "metadata": {},
   "outputs": [
    {
     "name": "stdout",
     "output_type": "stream",
     "text": [
      "78\n",
      "78\n",
      "98\n"
     ]
    }
   ],
   "source": [
    "# how to access an element\n",
    "print(marks['415'])\n",
    "print(marks1['415'])\n",
    "print(marks_names[('hema',567)])"
   ]
  },
  {
   "cell_type": "code",
   "execution_count": 12,
   "metadata": {},
   "outputs": [
    {
     "name": "stdout",
     "output_type": "stream",
     "text": [
      "{'415': 78, '890': 92, '413': 57}\n"
     ]
    }
   ],
   "source": [
    "# how to add a new element to the dict\n",
    "marks['413']=57\n",
    "print(marks)"
   ]
  },
  {
   "cell_type": "code",
   "execution_count": 13,
   "metadata": {},
   "outputs": [
    {
     "name": "stdout",
     "output_type": "stream",
     "text": [
      "{'415': 78, '890': 92, '413': 87}\n"
     ]
    }
   ],
   "source": [
    "# to update a value in dictionary\n",
    "marks['413']=87\n",
    "print(marks)"
   ]
  },
  {
   "cell_type": "code",
   "execution_count": 14,
   "metadata": {},
   "outputs": [
    {
     "name": "stdout",
     "output_type": "stream",
     "text": [
      "{'415': 78, '890': 92, '413': 87, 413: 87}\n"
     ]
    }
   ],
   "source": [
    "#Trying to update the value but it will create new\n",
    "marks[413]=87\n",
    "print(marks)"
   ]
  },
  {
   "cell_type": "code",
   "execution_count": 15,
   "metadata": {},
   "outputs": [
    {
     "name": "stdout",
     "output_type": "stream",
     "text": [
      "87\n"
     ]
    }
   ],
   "source": [
    "var=\"413\"\n",
    "print(marks[var])"
   ]
  },
  {
   "cell_type": "code",
   "execution_count": 16,
   "metadata": {},
   "outputs": [
    {
     "name": "stdout",
     "output_type": "stream",
     "text": [
      "{'415': 78, '890': 92, '413': 87, 413: 87}\n"
     ]
    }
   ],
   "source": [
    "marks[413]=87\n",
    "print(marks)"
   ]
  },
  {
   "cell_type": "code",
   "execution_count": 17,
   "metadata": {},
   "outputs": [
    {
     "name": "stdout",
     "output_type": "stream",
     "text": [
      "{'415': 78, '890': 92, '413': 87, 413: 87, '555': 78}\n"
     ]
    }
   ],
   "source": [
    "var1=\"555\"\n",
    "marks[var1]=78\n",
    "print(marks)"
   ]
  },
  {
   "cell_type": "code",
   "execution_count": 18,
   "metadata": {},
   "outputs": [
    {
     "name": "stdout",
     "output_type": "stream",
     "text": [
      "{'c': 6, 'py': 9, 'r': 7, 'go': 8}\n"
     ]
    }
   ],
   "source": [
    "ratings={\"c\":6,\"py\":9,\"r\":7,\"go\":8}\n",
    "print(ratings)"
   ]
  },
  {
   "cell_type": "code",
   "execution_count": 19,
   "metadata": {},
   "outputs": [
    {
     "ename": "NameError",
     "evalue": "name 'r' is not defined",
     "output_type": "error",
     "traceback": [
      "\u001b[1;31m---------------------------------------------------------------------------\u001b[0m",
      "\u001b[1;31mNameError\u001b[0m                                 Traceback (most recent call last)",
      "\u001b[1;32m<ipython-input-19-d983eb5be6cd>\u001b[0m in \u001b[0;36m<module>\u001b[1;34m\u001b[0m\n\u001b[1;32m----> 1\u001b[1;33m \u001b[0mratings\u001b[0m\u001b[1;33m=\u001b[0m\u001b[1;33m{\u001b[0m\u001b[1;34m\"c\"\u001b[0m\u001b[1;33m:\u001b[0m\u001b[1;36m6\u001b[0m\u001b[1;33m,\u001b[0m\u001b[1;34m\"py\"\u001b[0m\u001b[1;33m:\u001b[0m\u001b[1;36m9\u001b[0m\u001b[1;33m,\u001b[0m\u001b[0mr\u001b[0m\u001b[1;33m:\u001b[0m\u001b[1;36m7\u001b[0m\u001b[1;33m,\u001b[0m\u001b[1;34m\"go\"\u001b[0m\u001b[1;33m:\u001b[0m\u001b[1;36m8\u001b[0m\u001b[1;33m}\u001b[0m\u001b[1;33m\u001b[0m\u001b[1;33m\u001b[0m\u001b[0m\n\u001b[0m\u001b[0;32m      2\u001b[0m \u001b[0mprint\u001b[0m\u001b[1;33m(\u001b[0m\u001b[0mratings\u001b[0m\u001b[1;33m)\u001b[0m\u001b[1;33m\u001b[0m\u001b[1;33m\u001b[0m\u001b[0m\n",
      "\u001b[1;31mNameError\u001b[0m: name 'r' is not defined"
     ]
    }
   ],
   "source": [
    "ratings={\"c\":6,\"py\":9,r:7,\"go\":8}\n",
    "print(ratings)"
   ]
  },
  {
   "cell_type": "code",
   "execution_count": 20,
   "metadata": {},
   "outputs": [
    {
     "name": "stdout",
     "output_type": "stream",
     "text": [
      "{'c': 6, 'py': 9, '413': 7, 'go': 8}\n"
     ]
    }
   ],
   "source": [
    "ratings={\"c\":6,\"py\":9,var:7,\"go\":8}\n",
    "print(ratings)"
   ]
  },
  {
   "cell_type": "code",
   "execution_count": 21,
   "metadata": {},
   "outputs": [
    {
     "name": "stdout",
     "output_type": "stream",
     "text": [
      "{'c': 6, 'py': 9, 'r': 7, 'go': 8}\n"
     ]
    }
   ],
   "source": [
    "ratings={\"c\":6,\"py\":9,\"r\":7,\"go\":8}\n",
    "print(ratings)"
   ]
  },
  {
   "cell_type": "code",
   "execution_count": 22,
   "metadata": {},
   "outputs": [
    {
     "name": "stdout",
     "output_type": "stream",
     "text": [
      "c py r go "
     ]
    }
   ],
   "source": [
    "for x in ratings:\n",
    "    print(x,end=' ')"
   ]
  },
  {
   "cell_type": "code",
   "execution_count": 23,
   "metadata": {},
   "outputs": [
    {
     "name": "stdout",
     "output_type": "stream",
     "text": [
      "6 9 7 8 "
     ]
    }
   ],
   "source": [
    "for x in ratings:\n",
    "    print(ratings[x],end=' ')"
   ]
  },
  {
   "cell_type": "code",
   "execution_count": 24,
   "metadata": {},
   "outputs": [
    {
     "data": {
      "text/plain": [
       "6"
      ]
     },
     "execution_count": 24,
     "metadata": {},
     "output_type": "execute_result"
    }
   ],
   "source": [
    "ratings['c']"
   ]
  },
  {
   "cell_type": "code",
   "execution_count": 25,
   "metadata": {},
   "outputs": [
    {
     "name": "stdout",
     "output_type": "stream",
     "text": [
      "{'c': 6, 'py': 9, 'r': 7, 'go': 8}\n"
     ]
    }
   ],
   "source": [
    "ratings={\"c\":6,\"py\":9,\"r\":7,\"go\":8}\n",
    "print(ratings)"
   ]
  },
  {
   "cell_type": "code",
   "execution_count": 26,
   "metadata": {},
   "outputs": [
    {
     "name": "stdout",
     "output_type": "stream",
     "text": [
      "c:6\n",
      "py:9\n",
      "r:7\n",
      "go:8\n"
     ]
    }
   ],
   "source": [
    "# \"c\":6\n",
    "# \"py\":9\n",
    "for x in ratings:\n",
    "    print(x,ratings[x],sep=':')"
   ]
  },
  {
   "cell_type": "code",
   "execution_count": 27,
   "metadata": {},
   "outputs": [
    {
     "name": "stdout",
     "output_type": "stream",
     "text": [
      "\"c\":6\n",
      "\"py\":9\n",
      "\"r\":7\n",
      "\"go\":8\n"
     ]
    }
   ],
   "source": [
    "for x in ratings:\n",
    "    print('\"'+x+'\"',ratings[x],sep=':')"
   ]
  },
  {
   "cell_type": "code",
   "execution_count": 28,
   "metadata": {},
   "outputs": [
    {
     "name": "stdout",
     "output_type": "stream",
     "text": [
      "\"c\":6\n",
      "\"py\":9\n",
      "\"r\":7\n",
      "\"go\":8\n"
     ]
    }
   ],
   "source": [
    "for x in ratings:\n",
    "    print('\"'+x+'\":'+str(ratings[x]))"
   ]
  },
  {
   "cell_type": "code",
   "execution_count": 64,
   "metadata": {},
   "outputs": [
    {
     "data": {
      "text/plain": [
       "{1: 1, 2: 8, 3: 27, 4: 64, 5: 125, 6: 216, 7: 343, 8: 512, 9: 729, 10: 1000}"
      ]
     },
     "execution_count": 64,
     "metadata": {},
     "output_type": "execute_result"
    }
   ],
   "source": [
    "# {1:1,2:8,3:27,....,10:1000}\n",
    "d={}\n",
    "for i in range(1,11):\n",
    "    d[i]=i**3\n",
    "d    "
   ]
  },
  {
   "cell_type": "code",
   "execution_count": 65,
   "metadata": {},
   "outputs": [
    {
     "name": "stdout",
     "output_type": "stream",
     "text": [
      "1 2 3 4 5 6 7 8 9 10 "
     ]
    }
   ],
   "source": [
    "for i in d:\n",
    "    print(i,end=' ')"
   ]
  },
  {
   "cell_type": "code",
   "execution_count": 66,
   "metadata": {},
   "outputs": [
    {
     "name": "stdout",
     "output_type": "stream",
     "text": [
      "True\n",
      "False\n"
     ]
    }
   ],
   "source": [
    "print(4 in d)\n",
    "print(11 in d)"
   ]
  },
  {
   "cell_type": "code",
   "execution_count": null,
   "metadata": {},
   "outputs": [],
   "source": [
    "# i/p:[\"ian\",\"hari\",\"ali\",\"akash\",\"balu\",\"roja\"]\n",
    "# o/p:{\"vowels\":[\"ian\",\"ali\",\"akash\"],\n",
    "# \"consonants\":[\"hari\",\"balu\",\"roja\"]}"
   ]
  },
  {
   "cell_type": "code",
   "execution_count": 80,
   "metadata": {},
   "outputs": [
    {
     "data": {
      "text/plain": [
       "{'vowels': ['ian']}"
      ]
     },
     "execution_count": 80,
     "metadata": {},
     "output_type": "execute_result"
    }
   ],
   "source": [
    "out={}\n",
    "names=[\"ian\",\"hari\",\"ali\",\"akash\",\"balu\",\"roja\"]\n",
    "if names[0][0] in \"aeiou\": \n",
    "    out['vowels']=[names[0]]\n",
    "else:\n",
    "    out['consonants']=[names[0]]\n",
    "out    \n",
    "    "
   ]
  },
  {
   "cell_type": "code",
   "execution_count": 82,
   "metadata": {},
   "outputs": [
    {
     "data": {
      "text/plain": [
       "{'vowels': ['ian']}"
      ]
     },
     "execution_count": 82,
     "metadata": {},
     "output_type": "execute_result"
    }
   ],
   "source": [
    "out={}\n",
    "names=[\"ian\",\"hari\",\"ali\",\"akash\",\"balu\",\"roja\"]\n",
    "for i in range(len(names)):\n",
    "    if names[0][0] in \"aeiou\":\n",
    "        out['vowels']=[names[0]]\n",
    "    else:\n",
    "        out['consonants']=[names[0]]\n",
    "out    \n",
    "    "
   ]
  },
  {
   "cell_type": "code",
   "execution_count": 84,
   "metadata": {},
   "outputs": [
    {
     "data": {
      "text/plain": [
       "{'consonants': ['roja']}"
      ]
     },
     "execution_count": 84,
     "metadata": {},
     "output_type": "execute_result"
    }
   ],
   "source": [
    "out={}\n",
    "names=[\"ian\",\"hari\",\"ali\",\"akash\",\"balu\",\"roja\"]\n",
    "if names[i][0] in \"aeiou\": \n",
    "    out['vowels']=[names[i]]\n",
    "else:\n",
    "    out['consonants']=[names[i]]\n",
    "out    \n",
    "    "
   ]
  },
  {
   "cell_type": "code",
   "execution_count": 87,
   "metadata": {},
   "outputs": [
    {
     "name": "stdout",
     "output_type": "stream",
     "text": [
      "{'vowels': ['ian', 'ali', 'akash'], 'consonants': ['hari', 'balu', 'roja']}\n"
     ]
    }
   ],
   "source": [
    "out={}\n",
    "names=[\"ian\",\"hari\",\"ali\",\"akash\",\"balu\",\"roja\"]\n",
    "for i in range(len(names)):\n",
    "    if names[i][0] in \"aeiou\":\n",
    "        if 'vowels'in out:\n",
    "            out['vowels'].append(names[i]) \n",
    "        else:\n",
    "            out['vowels']=[names[i]]\n",
    "    else:\n",
    "        if 'consonants' in out:\n",
    "            out['consonants'].append(names[i])\n",
    "        else:\n",
    "            out['consonants']=[names[i]]\n",
    "        \n",
    "print(out)    "
   ]
  },
  {
   "cell_type": "code",
   "execution_count": null,
   "metadata": {},
   "outputs": [],
   "source": [
    "Peter Piper picked a peck of pickled peppers A peck of pickled peppers Peter Piper picked\n",
    "If Peter Piper picked a peck of pickled peppers Where’s the peck of pickled peppers Peter Piper picked ?\n",
    "\n",
    "Get the word frequency as a dict from text above\n",
    "keys as unique words \n",
    "value as no of times that key ocuuered in text"
   ]
  },
  {
   "cell_type": "code",
   "execution_count": 11,
   "metadata": {},
   "outputs": [
    {
     "data": {
      "text/plain": [
       "{' ',\n",
       " '?',\n",
       " 'A',\n",
       " 'I',\n",
       " 'P',\n",
       " 'W',\n",
       " 'a',\n",
       " 'c',\n",
       " 'd',\n",
       " 'e',\n",
       " 'f',\n",
       " 'h',\n",
       " 'i',\n",
       " 'k',\n",
       " 'l',\n",
       " 'o',\n",
       " 'p',\n",
       " 'r',\n",
       " 's',\n",
       " 't',\n",
       " '’'}"
      ]
     },
     "execution_count": 11,
     "metadata": {},
     "output_type": "execute_result"
    }
   ],
   "source": [
    "text='Peter Piper picked a peck of pickled peppers A peck of pickled peppers Peter Piper pickedIf Peter Piper picked a peck of pickled peppers Where’s the peck of pickled peppers Peter Piper picked ?'\n",
    "set(text)\n"
   ]
  },
  {
   "cell_type": "code",
   "execution_count": 12,
   "metadata": {},
   "outputs": [
    {
     "data": {
      "text/plain": [
       "['P',\n",
       " 'e',\n",
       " 't',\n",
       " 'e',\n",
       " 'r',\n",
       " ' ',\n",
       " 'P',\n",
       " 'i',\n",
       " 'p',\n",
       " 'e',\n",
       " 'r',\n",
       " ' ',\n",
       " 'p',\n",
       " 'i',\n",
       " 'c',\n",
       " 'k',\n",
       " 'e',\n",
       " 'd',\n",
       " ' ',\n",
       " 'a',\n",
       " ' ',\n",
       " 'p',\n",
       " 'e',\n",
       " 'c',\n",
       " 'k',\n",
       " ' ',\n",
       " 'o',\n",
       " 'f',\n",
       " ' ',\n",
       " 'p',\n",
       " 'i',\n",
       " 'c',\n",
       " 'k',\n",
       " 'l',\n",
       " 'e',\n",
       " 'd',\n",
       " ' ',\n",
       " 'p',\n",
       " 'e',\n",
       " 'p',\n",
       " 'p',\n",
       " 'e',\n",
       " 'r',\n",
       " 's',\n",
       " ' ',\n",
       " 'A',\n",
       " ' ',\n",
       " 'p',\n",
       " 'e',\n",
       " 'c',\n",
       " 'k',\n",
       " ' ',\n",
       " 'o',\n",
       " 'f',\n",
       " ' ',\n",
       " 'p',\n",
       " 'i',\n",
       " 'c',\n",
       " 'k',\n",
       " 'l',\n",
       " 'e',\n",
       " 'd',\n",
       " ' ',\n",
       " 'p',\n",
       " 'e',\n",
       " 'p',\n",
       " 'p',\n",
       " 'e',\n",
       " 'r',\n",
       " 's',\n",
       " ' ',\n",
       " 'P',\n",
       " 'e',\n",
       " 't',\n",
       " 'e',\n",
       " 'r',\n",
       " ' ',\n",
       " 'P',\n",
       " 'i',\n",
       " 'p',\n",
       " 'e',\n",
       " 'r',\n",
       " ' ',\n",
       " 'p',\n",
       " 'i',\n",
       " 'c',\n",
       " 'k',\n",
       " 'e',\n",
       " 'd',\n",
       " 'I',\n",
       " 'f',\n",
       " ' ',\n",
       " 'P',\n",
       " 'e',\n",
       " 't',\n",
       " 'e',\n",
       " 'r',\n",
       " ' ',\n",
       " 'P',\n",
       " 'i',\n",
       " 'p',\n",
       " 'e',\n",
       " 'r',\n",
       " ' ',\n",
       " 'p',\n",
       " 'i',\n",
       " 'c',\n",
       " 'k',\n",
       " 'e',\n",
       " 'd',\n",
       " ' ',\n",
       " 'a',\n",
       " ' ',\n",
       " 'p',\n",
       " 'e',\n",
       " 'c',\n",
       " 'k',\n",
       " ' ',\n",
       " 'o',\n",
       " 'f',\n",
       " ' ',\n",
       " 'p',\n",
       " 'i',\n",
       " 'c',\n",
       " 'k',\n",
       " 'l',\n",
       " 'e',\n",
       " 'd',\n",
       " ' ',\n",
       " 'p',\n",
       " 'e',\n",
       " 'p',\n",
       " 'p',\n",
       " 'e',\n",
       " 'r',\n",
       " 's',\n",
       " ' ',\n",
       " 'W',\n",
       " 'h',\n",
       " 'e',\n",
       " 'r',\n",
       " 'e',\n",
       " '’',\n",
       " 's',\n",
       " ' ',\n",
       " 't',\n",
       " 'h',\n",
       " 'e',\n",
       " ' ',\n",
       " 'p',\n",
       " 'e',\n",
       " 'c',\n",
       " 'k',\n",
       " ' ',\n",
       " 'o',\n",
       " 'f',\n",
       " ' ',\n",
       " 'p',\n",
       " 'i',\n",
       " 'c',\n",
       " 'k',\n",
       " 'l',\n",
       " 'e',\n",
       " 'd',\n",
       " ' ',\n",
       " 'p',\n",
       " 'e',\n",
       " 'p',\n",
       " 'p',\n",
       " 'e',\n",
       " 'r',\n",
       " 's',\n",
       " ' ',\n",
       " 'P',\n",
       " 'e',\n",
       " 't',\n",
       " 'e',\n",
       " 'r',\n",
       " ' ',\n",
       " 'P',\n",
       " 'i',\n",
       " 'p',\n",
       " 'e',\n",
       " 'r',\n",
       " ' ',\n",
       " 'p',\n",
       " 'i',\n",
       " 'c',\n",
       " 'k',\n",
       " 'e',\n",
       " 'd',\n",
       " ' ',\n",
       " '?']"
      ]
     },
     "execution_count": 12,
     "metadata": {},
     "output_type": "execute_result"
    }
   ],
   "source": [
    "list(text)"
   ]
  },
  {
   "cell_type": "code",
   "execution_count": 13,
   "metadata": {},
   "outputs": [
    {
     "data": {
      "text/plain": [
       "['Peter',\n",
       " 'Piper',\n",
       " 'picked',\n",
       " 'a',\n",
       " 'peck',\n",
       " 'of',\n",
       " 'pickled',\n",
       " 'peppers',\n",
       " 'A',\n",
       " 'peck',\n",
       " 'of',\n",
       " 'pickled',\n",
       " 'peppers',\n",
       " 'Peter',\n",
       " 'Piper',\n",
       " 'pickedIf',\n",
       " 'Peter',\n",
       " 'Piper',\n",
       " 'picked',\n",
       " 'a',\n",
       " 'peck',\n",
       " 'of',\n",
       " 'pickled',\n",
       " 'peppers',\n",
       " 'Where’s',\n",
       " 'the',\n",
       " 'peck',\n",
       " 'of',\n",
       " 'pickled',\n",
       " 'peppers',\n",
       " 'Peter',\n",
       " 'Piper',\n",
       " 'picked',\n",
       " '?']"
      ]
     },
     "execution_count": 13,
     "metadata": {},
     "output_type": "execute_result"
    }
   ],
   "source": [
    "text.split()"
   ]
  },
  {
   "cell_type": "code",
   "execution_count": 14,
   "metadata": {},
   "outputs": [
    {
     "data": {
      "text/plain": [
       "{'?',\n",
       " 'A',\n",
       " 'Peter',\n",
       " 'Piper',\n",
       " 'Where’s',\n",
       " 'a',\n",
       " 'of',\n",
       " 'peck',\n",
       " 'peppers',\n",
       " 'picked',\n",
       " 'pickedIf',\n",
       " 'pickled',\n",
       " 'the'}"
      ]
     },
     "execution_count": 14,
     "metadata": {},
     "output_type": "execute_result"
    }
   ],
   "source": [
    "set(text.split())"
   ]
  },
  {
   "cell_type": "code",
   "execution_count": 1,
   "metadata": {},
   "outputs": [
    {
     "ename": "NameError",
     "evalue": "name 'text' is not defined",
     "output_type": "error",
     "traceback": [
      "\u001b[1;31m---------------------------------------------------------------------------\u001b[0m",
      "\u001b[1;31mNameError\u001b[0m                                 Traceback (most recent call last)",
      "\u001b[1;32m<ipython-input-1-d606382382ff>\u001b[0m in \u001b[0;36m<module>\u001b[1;34m\u001b[0m\n\u001b[0;32m      1\u001b[0m \u001b[0mwords\u001b[0m\u001b[1;33m=\u001b[0m\u001b[1;33m[\u001b[0m\u001b[1;33m]\u001b[0m\u001b[1;33m\u001b[0m\u001b[1;33m\u001b[0m\u001b[0m\n\u001b[1;32m----> 2\u001b[1;33m \u001b[1;32mfor\u001b[0m \u001b[0mword\u001b[0m \u001b[1;32min\u001b[0m \u001b[0mtext\u001b[0m\u001b[1;33m.\u001b[0m\u001b[0msplit\u001b[0m\u001b[1;33m(\u001b[0m\u001b[1;33m)\u001b[0m\u001b[1;33m:\u001b[0m\u001b[1;33m\u001b[0m\u001b[1;33m\u001b[0m\u001b[0m\n\u001b[0m\u001b[0;32m      3\u001b[0m     \u001b[0mwords\u001b[0m\u001b[1;33m.\u001b[0m\u001b[0mappend\u001b[0m\u001b[1;33m(\u001b[0m\u001b[0mword\u001b[0m\u001b[1;33m.\u001b[0m\u001b[0mlower\u001b[0m\u001b[1;33m(\u001b[0m\u001b[1;33m)\u001b[0m\u001b[1;33m)\u001b[0m\u001b[1;33m\u001b[0m\u001b[1;33m\u001b[0m\u001b[0m\n\u001b[0;32m      4\u001b[0m \u001b[0mset\u001b[0m\u001b[1;33m(\u001b[0m\u001b[0mwords\u001b[0m\u001b[1;33m)\u001b[0m\u001b[1;33m\u001b[0m\u001b[1;33m\u001b[0m\u001b[0m\n",
      "\u001b[1;31mNameError\u001b[0m: name 'text' is not defined"
     ]
    }
   ],
   "source": [
    "words=[]\n",
    "for word in text.split():\n",
    "    words.append(word.lower())\n",
    "set(words)\n"
   ]
  },
  {
   "cell_type": "code",
   "execution_count": 17,
   "metadata": {},
   "outputs": [
    {
     "name": "stdout",
     "output_type": "stream",
     "text": [
      "['peter', 'piper', 'picked', 'the', 'peck', 'peppers', 'pickedif', 'a', 'pickled', '?', 'of', 'where’s']\n"
     ]
    }
   ],
   "source": [
    "words=[]\n",
    "for word in text.split():\n",
    "    words.append(word.lower())\n",
    "print(list(set(words)))"
   ]
  },
  {
   "cell_type": "code",
   "execution_count": 18,
   "metadata": {},
   "outputs": [
    {
     "data": {
      "text/plain": [
       "{'peter': 4,\n",
       " 'piper': 4,\n",
       " 'picked': 3,\n",
       " 'a': 3,\n",
       " 'peck': 4,\n",
       " 'of': 4,\n",
       " 'pickled': 4,\n",
       " 'peppers': 4,\n",
       " 'pickedif': 1,\n",
       " 'where’s': 1,\n",
       " 'the': 1,\n",
       " '?': 1}"
      ]
     },
     "execution_count": 18,
     "metadata": {},
     "output_type": "execute_result"
    }
   ],
   "source": [
    "unique_words=list(set(words))\n",
    "word_count={}\n",
    "for word in words:\n",
    "    if word in word_count:\n",
    "        word_count[word]+=1\n",
    "    else:\n",
    "        word_count[word]=1\n",
    "word_count\n"
   ]
  },
  {
   "cell_type": "code",
   "execution_count": null,
   "metadata": {},
   "outputs": [],
   "source": [
    "-Read the inputs \n",
    "-How many students data you want to read\n",
    "-Read the student name\n",
    "-Read the students marks in three subjcts in a single line\n",
    "   Example : \"56 78 92\"\n",
    "-Use the name as a key in the dictionary and values is alist with above marks\n",
    "-Repeat the above three steps for all the students\n",
    "-Final output is a dict\n",
    "   Example Format\n",
    "   {\"Renu\":[45,56,78],\"Hari\":[78,2,45]}"
   ]
  },
  {
   "cell_type": "code",
   "execution_count": 11,
   "metadata": {},
   "outputs": [
    {
     "name": "stdout",
     "output_type": "stream",
     "text": [
      "{'56 78 92'}\n"
     ]
    }
   ],
   "source": [
    "marks={\"56 78 92\"}\n",
    "print(marks)"
   ]
  },
  {
   "cell_type": "code",
   "execution_count": 12,
   "metadata": {},
   "outputs": [
    {
     "data": {
      "text/plain": [
       "{'Renu': [45, 56, 78], 'Hari': [78, 2, 45]}"
      ]
     },
     "execution_count": 12,
     "metadata": {},
     "output_type": "execute_result"
    }
   ],
   "source": [
    "marks_names={\"Renu\":[45,56,78],\"Hari\":[78,2,45]}\n",
    "marks_names"
   ]
  },
  {
   "cell_type": "code",
   "execution_count": null,
   "metadata": {},
   "outputs": [],
   "source": [
    "#read the number of students from user\n",
    "#Read the details of students into a list. Each sublist contains below details\n",
    "   - studentName,RollNumber,Marks,Language in a single line\n",
    "   - example \"raj,416,56,python\"\n",
    "#Create a dict in which \n",
    "   - key is a tuple contains name and roll number\n",
    "   - value is a dict with language as key marks as value\n",
    "#Output Format \n",
    "   - {(\"Hari\",678):{\"C\":94},(\"Renu\",546):{\"Python\":75}"
   ]
  },
  {
   "cell_type": "code",
   "execution_count": 7,
   "metadata": {},
   "outputs": [
    {
     "name": "stdout",
     "output_type": "stream",
     "text": [
      "raj 416 56 python\n"
     ]
    },
    {
     "data": {
      "text/plain": [
       "['raj', 416, 56, 'python']"
      ]
     },
     "execution_count": 7,
     "metadata": {},
     "output_type": "execute_result"
    }
   ],
   "source": [
    "s=input().split()\n",
    "s[1]=int(s[1])\n",
    "s[2]=int(s[2])\n",
    "s"
   ]
  },
  {
   "cell_type": "code",
   "execution_count": 7,
   "metadata": {},
   "outputs": [
    {
     "name": "stdout",
     "output_type": "stream",
     "text": [
      "{('hari', 678): {'c': 94}, ('renu', 546): {'python': 75}}\n"
     ]
    }
   ],
   "source": [
    "marks={(\"hari\",678):{\"c\":94},(\"renu\",546):{\"python\":75}}\n",
    "print(marks)"
   ]
  },
  {
   "cell_type": "code",
   "execution_count": null,
   "metadata": {},
   "outputs": [],
   "source": [
    "case1:Modify the above code so that if the user enter multiple entries with same username and\n",
    "roll number you should add the new language as key and marks as values in the inner dictionary\n",
    "-o/p {(\"Hari\",678):{\"C\":94,\"Python\":67},(\"Renu\",546):{\"Python\":75}}"
   ]
  },
  {
   "cell_type": "code",
   "execution_count": 14,
   "metadata": {},
   "outputs": [
    {
     "name": "stdout",
     "output_type": "stream",
     "text": [
      "{('hari', 678): {'c': 94, 'python': 67}, ('renu', 546): {'python': 75}}\n"
     ]
    }
   ],
   "source": [
    "marks={(\"hari\",678):{\"c\":94,\"python\":67},(\"renu\",546):{\"python\":75}}\n",
    "print(marks)"
   ]
  },
  {
   "cell_type": "code",
   "execution_count": null,
   "metadata": {},
   "outputs": [],
   "source": [
    "case2: Modify the above code so that if the user enter multiple entries with same username and \n",
    "    roll number you should get the latest entry"
   ]
  },
  {
   "cell_type": "code",
   "execution_count": null,
   "metadata": {},
   "outputs": [],
   "source": []
  },
  {
   "cell_type": "code",
   "execution_count": null,
   "metadata": {},
   "outputs": [],
   "source": [
    "case3:Modify the above code so that if the user enter multiple entries with same username and\n",
    "    roll number you should get the first entry"
   ]
  },
  {
   "cell_type": "code",
   "execution_count": null,
   "metadata": {},
   "outputs": [],
   "source": [
    "d1 = {\"@python\":20000,'@c':10000,\"@java\":5000,\"@go\":15000}\n",
    "d2 = {\"@perl\": 10000,\"@c++\":5000,\"@python\":30000}\n",
    "# out1= {\"@python\":30000,'@c':10000,\"@java\":5000,\"@go\":15000}\n",
    "# out2 = {\"@perl\": 10000,\"@c++\":5000,\"@python\":20000}\n",
    "# out3 = {\"@python\":30000,'@c':10000,\"@java\":5000,\"@go\":15000,\n",
    "# \"@perl\": 10000,\"@c++\":5000}\n",
    "# out4 = {\"@perl\": 10000,\"@c++\":5000,\"@python\":20000,\n",
    "# '@c':10000,\"@java\":5000,\"@go\":15000}\n",
    "# out5 = {\"python\":[500000,30000]}\n",
    "#out6 = {'@c':10000,\"@java\":5000,\"@go\":15000\",\n",
    "# @perl\": 10000,\"@c++\":5000}"
   ]
  },
  {
   "cell_type": "code",
   "execution_count": null,
   "metadata": {},
   "outputs": [],
   "source": []
  },
  {
   "cell_type": "code",
   "execution_count": null,
   "metadata": {},
   "outputs": [],
   "source": [
    "i/p :['suma@gmail.com', 'python1234@gmail.com', 'hello@gmail.com', 'hero@yahoo.in', 'roja@yahoo.in', 'promizeit@yahoo.in',\"hello@gitam.edu.in]\n",
    "o/p1 : {\"gmail.com\":3,\"yahoo.in\":3,\"gitam.edu.in\":1}\n",
    "op2 : {\"gmail.com\":['suma','python1234','hello'],\"yahoo.in\":['hero','roja','promizeit'],\"gitam.edu.in\":[hello]}"
   ]
  },
  {
   "cell_type": "code",
   "execution_count": 44,
   "metadata": {},
   "outputs": [
    {
     "name": "stdout",
     "output_type": "stream",
     "text": [
      "['suma@gmail.com', 'python1234@gmail.com', 'hello@gmail.com', 'hero@yahoo.in', 'roja@yahoo.in', 'promizeit@yahoo.in', 'hello@gitam.edu.in']\n"
     ]
    }
   ],
   "source": [
    "emails=['suma@gmail.com',\n",
    "       'python1234@gmail.com',\n",
    "       'hello@gmail.com',\n",
    "       'hero@yahoo.in',\n",
    "       'roja@yahoo.in',\n",
    "       'promizeit@yahoo.in',\n",
    "       'hello@gitam.edu.in']\n",
    "print(emails)"
   ]
  },
  {
   "cell_type": "code",
   "execution_count": 45,
   "metadata": {},
   "outputs": [
    {
     "data": {
      "text/plain": [
       "['hello@gmail.com',\n",
       " 'python1234@gmail.com',\n",
       " 'suma@gmail.com',\n",
       " 'hero@yahoo.in',\n",
       " 'promizeit@yahoo.in',\n",
       " 'hello@gitam.edu.in',\n",
       " 'roja@yahoo.in']"
      ]
     },
     "execution_count": 45,
     "metadata": {},
     "output_type": "execute_result"
    }
   ],
   "source": [
    "list(set(emails))"
   ]
  },
  {
   "cell_type": "code",
   "execution_count": 51,
   "metadata": {},
   "outputs": [
    {
     "data": {
      "text/plain": [
       "['gmail.com',\n",
       " 'gmail.com',\n",
       " 'gmail.com',\n",
       " 'yahoo.in',\n",
       " 'yahoo.in',\n",
       " 'yahoo.in',\n",
       " 'gitam.edu.in']"
      ]
     },
     "execution_count": 51,
     "metadata": {},
     "output_type": "execute_result"
    }
   ],
   "source": [
    "domains_count=[]\n",
    "for i in range(len(emails)):\n",
    "    domains_count.append(emails[i].split('@')[-1])\n",
    "domains_count    \n"
   ]
  },
  {
   "cell_type": "code",
   "execution_count": 52,
   "metadata": {},
   "outputs": [
    {
     "data": {
      "text/plain": [
       "[]"
      ]
     },
     "execution_count": 52,
     "metadata": {},
     "output_type": "execute_result"
    }
   ],
   "source": [
    "domains_count=[]\n",
    "for i in domains:\n",
    "    domains_count.append([i,domains.count(i)])\n",
    "domains_count"
   ]
  },
  {
   "cell_type": "code",
   "execution_count": 50,
   "metadata": {},
   "outputs": [
    {
     "data": {
      "text/plain": [
       "{}"
      ]
     },
     "execution_count": 50,
     "metadata": {},
     "output_type": "execute_result"
    }
   ],
   "source": [
    "domains={}\n",
    "for i in domains:\n",
    "    domains[i,domains.count(emails,3)]\n",
    "domains    "
   ]
  },
  {
   "cell_type": "code",
   "execution_count": null,
   "metadata": {},
   "outputs": [],
   "source": []
  }
 ],
 "metadata": {
  "kernelspec": {
   "display_name": "Python 3",
   "language": "python",
   "name": "python3"
  },
  "language_info": {
   "codemirror_mode": {
    "name": "ipython",
    "version": 3
   },
   "file_extension": ".py",
   "mimetype": "text/x-python",
   "name": "python",
   "nbconvert_exporter": "python",
   "pygments_lexer": "ipython3",
   "version": "3.7.4"
  }
 },
 "nbformat": 4,
 "nbformat_minor": 2
}
