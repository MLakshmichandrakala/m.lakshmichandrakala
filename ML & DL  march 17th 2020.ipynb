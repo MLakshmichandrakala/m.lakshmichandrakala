{
 "cells": [
  {
   "cell_type": "markdown",
   "metadata": {},
   "source": [
    "# classification\n",
    "- Binary\n",
    "- Multiclass\n",
    "- Sentiment Analysis\n",
    "- Anomly detection \n",
    "# Regression\n",
    "# Recommender Systems\n",
    "# Reinforcement Learning\n",
    "# NLP\n",
    "- Q&A\n",
    "- Auto completion\n",
    "- Chatbot\n",
    "# Computer Vision\n",
    "- Object detection\n",
    "- Object tracking\n",
    "- image classfication\n",
    "- image tagging\n",
    "# Data\n",
    "- numerical data\n",
    "- image data\n",
    "- audio data\n",
    "- video data\n",
    "- text data\n",
    "- from documents\n",
    "- satellite imagery\n",
    "- timeseries data(Temperatue Reading, Stock prices)"
   ]
  },
  {
   "cell_type": "markdown",
   "metadata": {},
   "source": [
    "# Machine learning:"
   ]
  },
  {
   "cell_type": "markdown",
   "metadata": {},
   "source": [
    "* Machine learning is an application of artificial intelligence(AI)that provides systems the ability to automatically learn \n",
    "and improve from experience without being explicity programmed.\n",
    "* machine learning focuses on the development of computer programs that can access data and use it learn for theselves."
   ]
  },
  {
   "cell_type": "markdown",
   "metadata": {},
   "source": [
    "## There are three types of machine learning :\n",
    "#### 1.Supervised learning\n",
    "#### 2.Unsupervised learning\n",
    "#### 3.Reinforcement learning"
   ]
  },
  {
   "cell_type": "markdown",
   "metadata": {},
   "source": [
    "## Example of machine learning:\n",
    "    * Medical Diagnosis\n",
    "    Image Processing\n",
    "    Prediction\n",
    "    Classification,Learning Association,Regression etc."
   ]
  },
  {
   "cell_type": "markdown",
   "metadata": {},
   "source": [
    "# Classifications:"
   ]
  },
  {
   "cell_type": "code",
   "execution_count": null,
   "metadata": {},
   "outputs": [],
   "source": [
    "# BINARY CLASSIFICATION:\n",
    "    Binary classification is the one of the most common and frequently tackled problems in the machine learning domain.\n",
    "    its simplestform the user tries to classify an entity into one of the two possible categories.\n",
    "  example: give the attributes of the fruits like weight,color,peeltexture,etc.  "
   ]
  },
  {
   "cell_type": "code",
   "execution_count": null,
   "metadata": {},
   "outputs": [],
   "source": [
    "# MULTICLASS CLASSIFICATION:\n",
    "    A classification task with more than two classes.\n",
    "  example: classify a set of images of fruits which may be oranges,apples,or pears.\n",
    "               most classification data sets do not have exactly equal number of instances in each class, \n",
    "                but a small difference often does not matter"
   ]
  },
  {
   "cell_type": "code",
   "execution_count": null,
   "metadata": {},
   "outputs": [],
   "source": [
    "# SENTIMENT ANALYSIS:\n",
    "    Sentiment analysis is a classic\n",
    "  example:\"a way of learning that enables algoriths to evolve\" this learning means feeding the algorithm wwith a massive \n",
    "           amount of data so that it can adjust itself and continually improve."
   ]
  },
  {
   "cell_type": "code",
   "execution_count": null,
   "metadata": {},
   "outputs": [],
   "source": [
    "# ANOMLY DETECTION:\n",
    "    Anomly detection to implementing machine learning algorithms. in large complex of BIG DATA.\n",
    "    There are two types :\n",
    "        1. supervised : suport vector ml(SVML),k-nearest neighbors(KNN),bayseian networks and decision tree\n",
    "        2. unsupervised : self-organizing maps(SOM),k-means,c-means"
   ]
  },
  {
   "cell_type": "markdown",
   "metadata": {},
   "source": [
    "# Regression"
   ]
  },
  {
   "cell_type": "code",
   "execution_count": null,
   "metadata": {},
   "outputs": [],
   "source": [
    "Regression in machine learning.regression models are used to predict a continous value.\n",
    " * example:predicting prices of a house given the features of house like size,price etc is one of \n",
    "                                                                                            the common example of regression.\n"
   ]
  },
  {
   "cell_type": "markdown",
   "metadata": {},
   "source": [
    "# Recommender Systems\n"
   ]
  },
  {
   "cell_type": "code",
   "execution_count": null,
   "metadata": {},
   "outputs": [],
   "source": [
    "Machine learning algorithms in recommender systems are typically classified into two categories  \n",
    "1.content based and \n",
    "2.collaborative filtering methods\n",
    "although modern recommenders combine both approaches. \n",
    "               # Content based methods are based on similarity of item attributes and\n",
    "               # collaborative methods calculatesimilarity from interactions."
   ]
  },
  {
   "cell_type": "markdown",
   "metadata": {},
   "source": [
    "# Reinforcement Learning\n"
   ]
  },
  {
   "cell_type": "code",
   "execution_count": null,
   "metadata": {},
   "outputs": [],
   "source": [
    "       Reinforcement learning (RL) is a machine learning method.agent,state,reward,environment,value function model of the \n",
    "environment,model based methods, are some important terms uingg in RL learning method\n",
    "   *example* :is your cat is an agent that is exposed to the environment"
   ]
  },
  {
   "cell_type": "markdown",
   "metadata": {},
   "source": [
    "# NLP (Natural Language Processing)"
   ]
  },
  {
   "cell_type": "code",
   "execution_count": null,
   "metadata": {},
   "outputs": [],
   "source": [
    "google,yahoo,bing,and other search engines base their machine translation technology on NLP deep learning models.\n",
    "it allows algorithms to read text on a webpage, interpret its meaning and translate it to another language.\n",
    "                             There are 7 natural language processing:\n",
    "                                       1.text classification\n",
    "                                       2.language modeling\n",
    "                                       3.speech recognition\n",
    "                                       4.caption generation\n",
    "                                       5.machine translation\n",
    "                                       6.document summarization\n",
    "                                       7.question answering\n",
    "  example:we can use NLP to create systems like \n",
    "        1.speech recognition\n",
    "        2.document sumarization\n",
    "        3.machine translation\n",
    "        4.spam detection\n",
    "        5.named entity recognition\n",
    "        6.question answering\n",
    "        7.autocomplete\n",
    "        8.predictive typing and so on"
   ]
  },
  {
   "cell_type": "markdown",
   "metadata": {},
   "source": [
    "## 1.Q & A"
   ]
  },
  {
   "cell_type": "code",
   "execution_count": null,
   "metadata": {},
   "outputs": [],
   "source": [
    "Q-learning is a model-free reinforcement learning algorithm. The goal of Q-learning is to learn a policy, \n",
    "which tells an agent what action to take under what circumstances.\n",
    "It does not require a model (hence the connotation \"model-free\") of the environment,\n",
    "and it can handle problems with stochastic transitions and rewards, without requiring adaptations."
   ]
  },
  {
   "cell_type": "markdown",
   "metadata": {},
   "source": [
    "## 2. Auto completion"
   ]
  },
  {
   "cell_type": "code",
   "execution_count": null,
   "metadata": {},
   "outputs": [],
   "source": [
    "* Auto completion of typical\"google-like search queries\" actually have a pretty simple-yet very effective-solution,and \n",
    "  its called\"MARKOV CHAINS\" \n",
    "** Auto complete ,or word completion ,is a feature in which an appication predicts the rest of a word a user is typing.\n",
    "   in graphical user interfaces,users can typically press the tab key to accept a sugession or the down arrow key to accept\n",
    "    one of several"
   ]
  },
  {
   "cell_type": "markdown",
   "metadata": {},
   "source": [
    "## 3.Chatbot"
   ]
  },
  {
   "cell_type": "code",
   "execution_count": null,
   "metadata": {},
   "outputs": [],
   "source": [
    "A chatbot is a computer program that simulates human conversation through voice commands or text chats for both.\n",
    "chatbot,short for \"Chatterbot\", is an\" Artificial Intelligence(AI)\"feature that can be embedded and used through any major \n",
    "messaging applications.\n",
    "** example** :  * It is 1800 flowers.the flowers-delivery company has created a \"Facebook messenger\" chatbot.\n",
    "                * the way the company has decided to approach the conversational space is to use it as an engagement channel.\n",
    "                * users can order flowers and have them delivered in a breeze."
   ]
  },
  {
   "cell_type": "markdown",
   "metadata": {},
   "source": [
    "# Computer Vision"
   ]
  },
  {
   "cell_type": "code",
   "execution_count": null,
   "metadata": {},
   "outputs": [],
   "source": [
    "Computer vision tasks include methods for acquiring, processing,analyzing and understanding digital images,and extraction of\n",
    "high-dimensional data from the real world in order to produce numerical or symbolic information.\n",
    " *example* : In the forms of decisions.\n",
    "               1.computer vision in indusrtrial preventative maintenance\n",
    "               2.some example include: \n",
    "                    a. oil and gas platforms\n",
    "                    b. chemical factories\n",
    "                    c. petroleum refineries\n",
    "                    d. even nuclear power plants"
   ]
  },
  {
   "cell_type": "markdown",
   "metadata": {},
   "source": [
    "### 1.Object detection\n"
   ]
  },
  {
   "cell_type": "code",
   "execution_count": null,
   "metadata": {},
   "outputs": [],
   "source": [
    "    * Object detection involves detecting instances of objects from a particular class in an image.\n",
    "    * locate the with prsence of objects with a bounding box and types or classes of the located objects in an image.\n",
    " INPUT:an image with one or more objects,such as a photograph.\n",
    " output: one or more bounding boxes (eg: defined by a point,width,and height),and a class label for each bounding box.  \n",
    " example: an example of a bicycle detection that specifies the locations of certain parts"
   ]
  },
  {
   "cell_type": "markdown",
   "metadata": {},
   "source": [
    "### 2.Object tracking"
   ]
  },
  {
   "cell_type": "code",
   "execution_count": null,
   "metadata": {},
   "outputs": [],
   "source": [
    "1.Object tracking is an important domain in computer vision .it involves the process of tracking an object which could be \n",
    "a person,ball or a car across a series of frames.\n",
    "2.See below the results rom the deep sort algorithm on a vedio from the multiple object tracking(MOT dataset)test set."
   ]
  },
  {
   "cell_type": "markdown",
   "metadata": {},
   "source": [
    "### 3.Image classification"
   ]
  },
  {
   "cell_type": "code",
   "execution_count": null,
   "metadata": {},
   "outputs": [],
   "source": [
    "Image classification is a supervised learning problem: define a set of target classes(object to identify in images),and train\n",
    "    a model to recognize them using labeled \n",
    "   example:photos early computer vision models relied on raw pixel data as  the input to the model.  "
   ]
  },
  {
   "cell_type": "markdown",
   "metadata": {},
   "source": [
    "### 4.Image tagging"
   ]
  },
  {
   "cell_type": "code",
   "execution_count": null,
   "metadata": {},
   "outputs": [],
   "source": [
    "Image tagging is the task of assiging human-friendly tags to an image so that the semantic tags can better reflect the content\n",
    "of the image and therefore can helps users better access that image."
   ]
  },
  {
   "cell_type": "markdown",
   "metadata": {},
   "source": [
    "# DATA"
   ]
  },
  {
   "cell_type": "code",
   "execution_count": null,
   "metadata": {},
   "outputs": [],
   "source": [
    "Machine learning is a method of data analysis that automates analytical method building it is a branch of artificial \n",
    "           intelligence based on the idea that systems can learn from data,identify patterns and make decisions with minimmal \n",
    "           human intervention.\n",
    "   example:the process of learning begins with observations or data such as examples,direct experience, or instructions ,\n",
    "           in order to look for patterns in data and make better decisions in the future based on the examples that we provide "
   ]
  },
  {
   "cell_type": "markdown",
   "metadata": {},
   "source": [
    "### 1. Numerical data"
   ]
  },
  {
   "cell_type": "code",
   "execution_count": null,
   "metadata": {},
   "outputs": [],
   "source": [
    " * In the machine learning world, data is nearly always split into two groups: numerical and categorical.\n",
    " * Numerical data is used to mean anything represented by numbers (floating point or integer). \n",
    " * Categorical data generally means everything else and in particular discrete labeled groups are often called out.\n",
    " example:Categories: Machine Learning These types of data denotes numeric description of something. \n",
    "         Examples of numerical data are  age, weight, temperature, count of something etc."
   ]
  },
  {
   "cell_type": "markdown",
   "metadata": {},
   "source": [
    "### 2. Image data"
   ]
  },
  {
   "cell_type": "code",
   "execution_count": null,
   "metadata": {},
   "outputs": [],
   "source": [
    "Image data the terms image inherently reflects a graphic representation ,and in the GIS word,differs siginificantly from raster\n",
    "     data.most often image data is used to store remotely sensed imagery\n",
    " example:satellite scenes or orthophotos,or ancillary graphics such as photographs,scanned plan documents,etc"
   ]
  },
  {
   "cell_type": "markdown",
   "metadata": {},
   "source": [
    "### 3. Audio data"
   ]
  },
  {
   "cell_type": "code",
   "execution_count": null,
   "metadata": {},
   "outputs": [],
   "source": [
    "Building machine learning models to classify, describe or generate audio typically concerns modeling tasks where the input data\n",
    "   are audio samples.these audio samples are usually reprensented as time series,where the y-axis measurement is the amplitude \n",
    "    of the waveform\n",
    "   example:\n",
    "        1.Raw sounf files\n",
    "        2.AU/SND Files\n",
    "        3.WAVE Files\n",
    "        4.AIFF Files\n",
    "        5.MP3 Files\n",
    "        6.OGG Files\n",
    "        7.RAM Files\n",
    "        "
   ]
  },
  {
   "cell_type": "markdown",
   "metadata": {},
   "source": [
    "### 4. Video data"
   ]
  },
  {
   "cell_type": "code",
   "execution_count": null,
   "metadata": {},
   "outputs": [],
   "source": [
    "Introduction of vedio classification. mant deep learning articles and tutorials primarily focus on three data domains\n",
    "  a.image\n",
    "  b.speech\n",
    "  c.text \n",
    "    these data domains are popular for their applications in image classification,speech recognition,and text sentiment \n",
    "       classification.a vedio is really just a stack of images\n",
    " example: one vedio might be 30 seconds ,while another is 2 minutes."
   ]
  },
  {
   "cell_type": "markdown",
   "metadata": {},
   "source": [
    "### 5. Text data"
   ]
  },
  {
   "cell_type": "code",
   "execution_count": null,
   "metadata": {},
   "outputs": [],
   "source": [
    "Text data requires a special approach to machine learning. this is because text data can have hundreds of thousands of \n",
    "    dimensions(words and phrases)but tends to be very sparse.\n",
    " example: the english language has around 100,000 words in common use.but ant given tweet only contains a few dozen of them."
   ]
  },
  {
   "cell_type": "markdown",
   "metadata": {},
   "source": [
    "### 6. From documents"
   ]
  },
  {
   "cell_type": "code",
   "execution_count": null,
   "metadata": {},
   "outputs": [],
   "source": [
    "\"Document\"usually denotes a primarily textual computer file,including its structurre and format.\n",
    "  examples: fonts,colors,and images.\n",
    "        1.paper,given the existence of electronic documents."
   ]
  },
  {
   "cell_type": "markdown",
   "metadata": {},
   "source": [
    "### 7. Satellite imagery"
   ]
  },
  {
   "cell_type": "code",
   "execution_count": null,
   "metadata": {},
   "outputs": [],
   "source": [
    "Satellite images are one of the most powerful and important tools used by the metrologist.they are essentially the eyes\n",
    "in the sky.these images rreassure forecasters to the behaviour of the atmosphere as they given a clear, concise,and accurate\n",
    "  representation of how events are unfolding.\n",
    "   example:\n",
    "        1.available via their earthrexplorer\n",
    "        2.landviewer\n",
    "        3.copernicus open access hub.\n",
    "        4.sentinel hub.\n",
    "        5.nasa earthdata search.\n",
    "        6.remote pixel.\n",
    "        7.inpe image catalog."
   ]
  },
  {
   "cell_type": "markdown",
   "metadata": {},
   "source": [
    "### 8. Timeseries data(Temperatue Reading, Stock prices)"
   ]
  },
  {
   "cell_type": "code",
   "execution_count": null,
   "metadata": {},
   "outputs": [],
   "source": [
    "A time-series database(TSDB)is a computer system that is designed to store and retrieve data records that are part of a \n",
    "\"time series\",which is a set of data points that are associated with timestamps.the timestamps provide a critical context for \n",
    "  each of the data points in how they are related to others.\n",
    " example:\n",
    "        1.heights of ocean tides\n",
    "        2.counts of sunspots and\n",
    "        3.the daily closing value of the industrial average."
   ]
  }
 ],
 "metadata": {
  "kernelspec": {
   "display_name": "Python 3",
   "language": "python",
   "name": "python3"
  },
  "language_info": {
   "codemirror_mode": {
    "name": "ipython",
    "version": 3
   },
   "file_extension": ".py",
   "mimetype": "text/x-python",
   "name": "python",
   "nbconvert_exporter": "python",
   "pygments_lexer": "ipython3",
   "version": "3.7.4"
  }
 },
 "nbformat": 4,
 "nbformat_minor": 2
}
