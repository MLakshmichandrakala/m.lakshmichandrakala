{
 "cells": [
  {
   "cell_type": "code",
   "execution_count": 1,
   "metadata": {},
   "outputs": [
    {
     "name": "stdout",
     "output_type": "stream",
     "text": [
      "chandu\n"
     ]
    }
   ],
   "source": [
    "a=100;\n",
    "print(\"chandu\")\n"
   ]
  },
  {
   "cell_type": "code",
   "execution_count": 2,
   "metadata": {},
   "outputs": [
    {
     "name": "stdout",
     "output_type": "stream",
     "text": [
      "100 chandu c 10.2\n"
     ]
    }
   ],
   "source": [
    "a=100;\n",
    "s1=\"chandu\"\n",
    "s2='c'\n",
    "f1=10.2\n",
    "print(a,s1,s2,f1)\n"
   ]
  },
  {
   "cell_type": "code",
   "execution_count": 3,
   "metadata": {},
   "outputs": [
    {
     "name": "stdout",
     "output_type": "stream",
     "text": [
      "<class 'int'>\n"
     ]
    }
   ],
   "source": [
    "a=100;\n",
    "print(type(a))"
   ]
  },
  {
   "cell_type": "code",
   "execution_count": 4,
   "metadata": {},
   "outputs": [
    {
     "name": "stdout",
     "output_type": "stream",
     "text": [
      "<class 'str'>\n"
     ]
    }
   ],
   "source": [
    "a=100;\n",
    "print(type(s1))"
   ]
  },
  {
   "cell_type": "code",
   "execution_count": 5,
   "metadata": {},
   "outputs": [
    {
     "name": "stdout",
     "output_type": "stream",
     "text": [
      "<class 'str'>\n"
     ]
    }
   ],
   "source": [
    "a=100;\n",
    "print(type(s2))"
   ]
  },
  {
   "cell_type": "markdown",
   "metadata": {},
   "source": []
  },
  {
   "cell_type": "code",
   "execution_count": 6,
   "metadata": {},
   "outputs": [
    {
     "name": "stdout",
     "output_type": "stream",
     "text": [
      "<class 'float'>\n"
     ]
    }
   ],
   "source": [
    "a=100;\n",
    "print(type(f1))"
   ]
  },
  {
   "cell_type": "code",
   "execution_count": 7,
   "metadata": {},
   "outputs": [
    {
     "name": "stdout",
     "output_type": "stream",
     "text": [
      "<class 'int'>\n"
     ]
    }
   ],
   "source": [
    "i=100\n",
    "print(type(1))\n"
   ]
  },
  {
   "cell_type": "code",
   "execution_count": 3,
   "metadata": {},
   "outputs": [
    {
     "name": "stdout",
     "output_type": "stream",
     "text": [
      "<class 'int'>\n",
      "<class 'str'>\n"
     ]
    }
   ],
   "source": [
    "i=100\n",
    "print(type(1))\n",
    "s1=str(1)\n",
    "print(type(s1))\n"
   ]
  },
  {
   "cell_type": "code",
   "execution_count": 1,
   "metadata": {},
   "outputs": [
    {
     "name": "stdout",
     "output_type": "stream",
     "text": [
      "30\n",
      "-10\n",
      "200\n",
      "0.5\n",
      "100000000000000000000\n",
      "0\n",
      "10\n"
     ]
    }
   ],
   "source": [
    "a=10\n",
    "b=20\n",
    "print(a+b)\n",
    "print(a-b)\n",
    "print(a*b)\n",
    "print(a/b)\n",
    "print(a**b)\n",
    "print(a//b)\n",
    "print(a%b)"
   ]
  },
  {
   "cell_type": "markdown",
   "metadata": {},
   "source": [
    "## arithmetic operators\n"
   ]
  },
  {
   "cell_type": "code",
   "execution_count": 4,
   "metadata": {},
   "outputs": [
    {
     "name": "stdout",
     "output_type": "stream",
     "text": [
      "8\n",
      "-2\n",
      "15\n",
      "243\n",
      "0.6\n",
      "0\n",
      "3\n"
     ]
    }
   ],
   "source": [
    "## Arithmetic operators\n",
    "n1=3\n",
    "n2=5\n",
    "print(n1+n2)\n",
    "print(n1-n2)\n",
    "print(n1*n2)\n",
    "print(n1**n2)\n",
    "print(n1/n2)\n",
    "print(n1//n2)\n",
    "print(n1%n2)"
   ]
  },
  {
   "cell_type": "markdown",
   "metadata": {},
   "source": [
    "## logical operators"
   ]
  },
  {
   "cell_type": "code",
   "execution_count": 7,
   "metadata": {},
   "outputs": [
    {
     "name": "stdout",
     "output_type": "stream",
     "text": [
      "False\n",
      "True\n",
      "False\n"
     ]
    }
   ],
   "source": [
    "# and\n",
    "# or\n",
    "# not\n",
    "print(a>10 and b<10)\n",
    "print(a>=10 or b<10)\n",
    "print(a>b)\n"
   ]
  },
  {
   "cell_type": "markdown",
   "metadata": {},
   "source": [
    "# indexing"
   ]
  },
  {
   "cell_type": "code",
   "execution_count": 8,
   "metadata": {},
   "outputs": [
    {
     "name": "stdout",
     "output_type": "stream",
     "text": [
      "<class 'str'>\n",
      "<class 'str'>\n",
      "5\n",
      "h\n",
      "o\n",
      "ell\n",
      "olleh\n"
     ]
    }
   ],
   "source": [
    "s1=\"hello\"\n",
    "s2='hello'\n",
    "print(type(s1))\n",
    "print(type(s2))\n",
    "print(len(s1))\n",
    "print(s1[0])\n",
    "print(s1[4])\n",
    "print(s1[1:4])\n",
    "print(s1[::-1])"
   ]
  },
  {
   "cell_type": "code",
   "execution_count": 9,
   "metadata": {},
   "outputs": [
    {
     "name": "stdout",
     "output_type": "stream",
     "text": [
      "100\n",
      "<class 'int'>\n"
     ]
    }
   ],
   "source": [
    "s1=100\n",
    "print(s1)\n",
    "print(type(s1))\n"
   ]
  },
  {
   "cell_type": "markdown",
   "metadata": {},
   "source": [
    "# string example"
   ]
  },
  {
   "cell_type": "code",
   "execution_count": 10,
   "metadata": {},
   "outputs": [
    {
     "name": "stdout",
     "output_type": "stream",
     "text": [
      "python programming\n",
      "18\n",
      "g\n",
      "n\n"
     ]
    }
   ],
   "source": [
    "s1=\"python programming\"\n",
    "print(s1)\n",
    "print(len(s1))\n",
    "print(s1[-1])\n",
    "print(s1[-2])\n"
   ]
  },
  {
   "cell_type": "markdown",
   "metadata": {},
   "source": [
    "## access the first two characters"
   ]
  },
  {
   "cell_type": "code",
   "execution_count": 12,
   "metadata": {},
   "outputs": [
    {
     "name": "stdout",
     "output_type": "stream",
     "text": [
      "python programming\n",
      "18\n",
      "g\n",
      "n\n",
      "py\n",
      "py\n",
      "ing\n",
      "thon programming\n",
      "ython programmin\n",
      "o\n",
      "gnimmargorp nohtyp\n",
      "gnimmargorp nohtyp\n"
     ]
    }
   ],
   "source": [
    "s1=\"python programming\"\n",
    "print(s1)\n",
    "print(len(s1))\n",
    "print(s1[-1])\n",
    "print(s1[-2])\n",
    "print(s1[0:2])\n",
    "print(s1[:2])\n",
    "print(s1[-3:])\n",
    "print(s1[2:])\n",
    "print(s1[1:-1])\n",
    "print(s1[len(s1)//2])\n",
    "print(s1[::-1])\n",
    "print(s1[-1::-1])"
   ]
  },
  {
   "cell_type": "markdown",
   "metadata": {},
   "source": [
    "# built-in  functions\n"
   ]
  },
  {
   "cell_type": "markdown",
   "metadata": {},
   "source": [
    "# lower"
   ]
  },
  {
   "cell_type": "markdown",
   "metadata": {},
   "source": [
    "# upper"
   ]
  },
  {
   "cell_type": "markdown",
   "metadata": {},
   "source": [
    "# join"
   ]
  },
  {
   "cell_type": "markdown",
   "metadata": {},
   "source": [
    "# split"
   ]
  },
  {
   "cell_type": "markdown",
   "metadata": {},
   "source": [
    "# replace"
   ]
  },
  {
   "cell_type": "markdown",
   "metadata": {},
   "source": [
    "\n"
   ]
  },
  {
   "cell_type": "code",
   "execution_count": 18,
   "metadata": {},
   "outputs": [
    {
     "name": "stdout",
     "output_type": "stream",
     "text": [
      "python\n",
      "PYTHON\n",
      "p,y,t,h,o,n\n",
      "p y t h o n\n",
      "p-y-t-h-o-n\n",
      "['python', 'programming', 'easy', 'to', 'learn']\n",
      "Abthon programming easy to learn\n"
     ]
    }
   ],
   "source": [
    "str1=\"python\"\n",
    "# lower\n",
    "print(str1.lower())\n",
    "# upper\n",
    "print(str1.upper())\n",
    "## join\n",
    "print(\",\".join(str1))\n",
    "print(\" \".join(str1))\n",
    "print(\"-\".join(str1))\n",
    "## split\n",
    "str2=\"python programming easy to learn\"\n",
    "print(str2.split())\n",
    "## replace\n",
    "print(str2.replace(\"py\",\"Ab\"))"
   ]
  },
  {
   "cell_type": "code",
   "execution_count": 1,
   "metadata": {},
   "outputs": [
    {
     "name": "stdout",
     "output_type": "stream",
     "text": [
      "yhn\n"
     ]
    }
   ],
   "source": [
    "s1=\"python\"\n",
    "print(s1[1::2])"
   ]
  },
  {
   "cell_type": "code",
   "execution_count": 2,
   "metadata": {},
   "outputs": [
    {
     "name": "stdout",
     "output_type": "stream",
     "text": [
      "nhy\n"
     ]
    }
   ],
   "source": [
    "s1=\"python\"\n",
    "print(s1[-1::-2])"
   ]
  },
  {
   "cell_type": "markdown",
   "metadata": {},
   "source": [
    "# conditions"
   ]
  },
  {
   "cell_type": "code",
   "execution_count": 1,
   "metadata": {},
   "outputs": [
    {
     "name": "stdout",
     "output_type": "stream",
     "text": [
      "true\n"
     ]
    }
   ],
   "source": [
    "x=10\n",
    "y=5\n",
    "\n",
    "if x>y:\n",
    "    print(\"true\")\n",
    "else:\n",
    "    print(\"false\")"
   ]
  },
  {
   "cell_type": "code",
   "execution_count": 2,
   "metadata": {},
   "outputs": [
    {
     "name": "stdout",
     "output_type": "stream",
     "text": [
      "enter any number6\n",
      "even\n"
     ]
    }
   ],
   "source": [
    "n= int(input(\"enter any number\"))\n",
    "if n%2==0:\n",
    "    print(\"even\")\n",
    "else:\n",
    "    print(\"odd\")\n",
    "    "
   ]
  },
  {
   "cell_type": "code",
   "execution_count": 3,
   "metadata": {},
   "outputs": [
    {
     "name": "stdout",
     "output_type": "stream",
     "text": [
      "enter any number5\n",
      "odd\n"
     ]
    }
   ],
   "source": [
    "n=int(input(\"enter any number\"))\n",
    "if n%2==0:\n",
    "    print(\"even\")\n",
    "else:\n",
    "    print(\"odd\")"
   ]
  },
  {
   "cell_type": "code",
   "execution_count": null,
   "metadata": {},
   "outputs": [],
   "source": []
  }
 ],
 "metadata": {
  "kernelspec": {
   "display_name": "Python 3",
   "language": "python",
   "name": "python3"
  },
  "language_info": {
   "codemirror_mode": {
    "name": "ipython",
    "version": 3
   },
   "file_extension": ".py",
   "mimetype": "text/x-python",
   "name": "python",
   "nbconvert_exporter": "python",
   "pygments_lexer": "ipython3",
   "version": "3.7.4"
  }
 },
 "nbformat": 4,
 "nbformat_minor": 2
}
