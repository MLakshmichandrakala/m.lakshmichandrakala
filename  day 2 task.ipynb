{
 "cells": [
  {
   "cell_type": "code",
   "execution_count": 1,
   "metadata": {},
   "outputs": [
    {
     "name": "stdout",
     "output_type": "stream",
     "text": [
      "enter a number10\n",
      "even number is 2\n",
      "even number is 4\n",
      "even number is 6\n",
      "even number is 8\n",
      "even number is 10\n",
      "sum of number 5\n"
     ]
    }
   ],
   "source": [
    "# read a number as  input and output  as only even numbers sum\n",
    "n=int(input(\"enter a number\"))\n",
    "i=1\n",
    "sum=0\n",
    "while i<=n:\n",
    "    if i%2==0:\n",
    "        print(\"even number is\",i)\n",
    "        sum=sum+1\n",
    "    i=i+1\n",
    "print(\"sum of number\",sum)    \n",
    "    "
   ]
  },
  {
   "cell_type": "code",
   "execution_count": 5,
   "metadata": {},
   "outputs": [
    {
     "name": "stdout",
     "output_type": "stream",
     "text": [
      "dcba4321\n"
     ]
    }
   ],
   "source": [
    "# write a python function to reverse a string\n",
    "L=\"1234abcd\"\n",
    "print(L[::-1])"
   ]
  },
  {
   "cell_type": "code",
   "execution_count": 6,
   "metadata": {},
   "outputs": [
    {
     "name": "stdout",
     "output_type": "stream",
     "text": [
      "11 12 13 14 15 16 17 18 19 20 21 22 23 24 "
     ]
    }
   ],
   "source": [
    "# function to print the numbers between 11 to 25 limits\n",
    "for i in range(11,25):\n",
    "    print(i,end=\" \")\n"
   ]
  },
  {
   "cell_type": "code",
   "execution_count": 7,
   "metadata": {},
   "outputs": [
    {
     "name": "stdout",
     "output_type": "stream",
     "text": [
      "89\n"
     ]
    }
   ],
   "source": [
    "# largest digit of given number\n",
    "n=[12,34,56,78,65,43,89]\n",
    "print(max(n))"
   ]
  },
  {
   "cell_type": "code",
   "execution_count": 16,
   "metadata": {},
   "outputs": [
    {
     "name": "stdout",
     "output_type": "stream",
     "text": [
      "abz\n",
      "xyc\n",
      "abz xyc\n"
     ]
    }
   ],
   "source": [
    "L1=\"abc\"\n",
    "L2=\"xyz\"\n",
    "new_string1=L1[:2]+L2[2:]\n",
    "new_string2=L2[:2]+L1[2:]\n",
    "print(new_string1)\n",
    "print(new_string2)\n",
    "print(new_string1+\" \"+new_string2)"
   ]
  },
  {
   "cell_type": "code",
   "execution_count": 15,
   "metadata": {},
   "outputs": [
    {
     "name": "stdout",
     "output_type": "stream",
     "text": [
      "enter the date:2020\n",
      "2020 is a leap year \n"
     ]
    }
   ],
   "source": [
    "# check the input is leap year or not\n",
    "n=int(input(\"enter the date:\"))\n",
    "if n%4 ==0 and n%400!=0:\n",
    "    print(n,\"is a leap year \")\n",
    "else:    \n",
    "    print(n, \"is not a leap year\")"
   ]
  },
  {
   "cell_type": "code",
   "execution_count": null,
   "metadata": {},
   "outputs": [],
   "source": []
  }
 ],
 "metadata": {
  "kernelspec": {
   "display_name": "Python 3",
   "language": "python",
   "name": "python3"
  },
  "language_info": {
   "codemirror_mode": {
    "name": "ipython",
    "version": 3
   },
   "file_extension": ".py",
   "mimetype": "text/x-python",
   "name": "python",
   "nbconvert_exporter": "python",
   "pygments_lexer": "ipython3",
   "version": "3.7.4"
  }
 },
 "nbformat": 4,
 "nbformat_minor": 2
}
