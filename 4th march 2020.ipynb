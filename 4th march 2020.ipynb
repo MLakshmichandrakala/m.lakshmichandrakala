{
 "cells": [
  {
   "cell_type": "markdown",
   "metadata": {},
   "source": [
    "# Questions:\n",
    "### 1.accept a number and check whether it is a prime or not \n",
    "### 2.print the count of prime number in the given range\n",
    "### 3.accept a number and check whether it is perfect number or not\n",
    "## explanation: 6-->1,2,3=1+2+3=6\n",
    "4.accept a number and check whether it is armstrong number or not\n",
    "## explanation:153-->1^3+5^3+3^3\n",
    "## 5.find the factorial of a given number\n",
    "6.accept a number and check whether it is strong number or not\n",
    "## explanation:145=1!+4!+5!=1+24+120=145\n",
    "## 7.accept a number and check whether it is adam number or not\n",
    "## explanation:12-->12^2=144\n",
    "## 21*21=441\n",
    "### reverse(144)=441\n",
    "## 8.print all the palindrome numbers in the given range"
   ]
  },
  {
   "cell_type": "code",
   "execution_count": 2,
   "metadata": {},
   "outputs": [
    {
     "name": "stdout",
     "output_type": "stream",
     "text": [
      "enter any number5\n",
      "5 is a prime number\n"
     ]
    }
   ],
   "source": [
    "# 1. prime or not\n",
    "n=int(input(\"enter any number\"))\n",
    "if n>1:\n",
    "    for i in range(2,n):\n",
    "        if (n%i==0):\n",
    "            print(n,\"is not a prime number \")\n",
    "            break\n",
    "    else:\n",
    "        print(n,\"is a prime number\")\n",
    "else:\n",
    "    print(n,\"is not a prime number\")"
   ]
  },
  {
   "cell_type": "code",
   "execution_count": 3,
   "metadata": {},
   "outputs": [
    {
     "name": "stdout",
     "output_type": "stream",
     "text": [
      "enter lower range10\n",
      "enter upper range50\n",
      "11\n",
      "13\n",
      "17\n",
      "19\n",
      "23\n",
      "29\n",
      "31\n",
      "37\n",
      "41\n",
      "43\n",
      "47\n"
     ]
    }
   ],
   "source": [
    "# 2.count prime numbers in given range\n",
    "lower=int(input(\"enter lower range\"))\n",
    "upper=int(input(\"enter upper range\"))\n",
    "for num in range(lower ,upper +1):\n",
    "    if num>1:\n",
    "        for i in range(2,num):\n",
    "            if(num%i)==0:\n",
    "                break\n",
    "        else:\n",
    "            print(num)"
   ]
  },
  {
   "cell_type": "code",
   "execution_count": 4,
   "metadata": {},
   "outputs": [
    {
     "name": "stdout",
     "output_type": "stream",
     "text": [
      "please enter any number5\n",
      "5 is not perfect number\n"
     ]
    }
   ],
   "source": [
    "# 3. perfect number or not\n",
    "number=int(input(\"please enter any number\"))\n",
    "sum=0\n",
    "for i in range(1,number):\n",
    "    if(number%i==0):\n",
    "        sum=sum+i\n",
    "if(sum==number):\n",
    "    print(\"%d is a perfect number\"%number)\n",
    "else:\n",
    "    print(\"%d is not perfect number\"%number)"
   ]
  },
  {
   "cell_type": "code",
   "execution_count": 5,
   "metadata": {},
   "outputs": [
    {
     "name": "stdout",
     "output_type": "stream",
     "text": [
      "enter a number5\n",
      "the factorial of a number 120\n"
     ]
    }
   ],
   "source": [
    "# 5. factorial\n",
    "n=int(input(\"enter a number\"))\n",
    "fact=1\n",
    "for i in range(1,n+1):\n",
    "    fact=fact*i\n",
    "print(\"the factorial of a number\",end=\" \")\n",
    "print(fact)"
   ]
  },
  {
   "cell_type": "code",
   "execution_count": 6,
   "metadata": {},
   "outputs": [
    {
     "name": "stdout",
     "output_type": "stream",
     "text": [
      "enter a number153\n",
      "153 is a armstrong number\n"
     ]
    }
   ],
   "source": [
    "# 4.armstrong number\n",
    "n=int(input(\"enter a number\"))\n",
    "sum=0\n",
    "temp=n\n",
    "while temp > 0:\n",
    "    digit=temp%10\n",
    "    sum+=digit**3\n",
    "    temp//=10\n",
    "if n==sum:\n",
    "    print(n,\"is a armstrong number\")\n",
    "else:\n",
    "    print(n,\"is not an armstrong number\")\n",
    "    "
   ]
  },
  {
   "cell_type": "code",
   "execution_count": 7,
   "metadata": {},
   "outputs": [
    {
     "name": "stdout",
     "output_type": "stream",
     "text": [
      "enter a number145\n",
      "the number is not a strong number\n"
     ]
    }
   ],
   "source": [
    "# 6. strong or not\n",
    "sum1=0\n",
    "num=int(input(\"enter a number\"))\n",
    "temp=num\n",
    "while(num):\n",
    "    i=1\n",
    "    f=1\n",
    "    r=num%10\n",
    "    while(i<=r):\n",
    "        f=f*i\n",
    "        i=i+1\n",
    "    sum=sum1+f \n",
    "    num=num//10\n",
    "if(sum1==temp):\n",
    "    print(\"the number is a strong number\")\n",
    "else:\n",
    "    print(\"the number is not a strong number\")\n",
    "    "
   ]
  },
  {
   "cell_type": "code",
   "execution_count": 8,
   "metadata": {},
   "outputs": [
    {
     "name": "stdout",
     "output_type": "stream",
     "text": [
      "12\n",
      "adam number\n"
     ]
    }
   ],
   "source": [
    "# 7. adam number\n",
    "n=int(input())\n",
    "n1=n**2\n",
    "s=int(str(n)[::-1])**2\n",
    "s2=int(str(s)[::-1])\n",
    "print(\"adam number\") if s2==n1 else print(\"is not an adam number\")"
   ]
  },
  {
   "cell_type": "code",
   "execution_count": null,
   "metadata": {},
   "outputs": [],
   "source": [
    "# 8.palindrome number given range\n"
   ]
  }
 ],
 "metadata": {
  "kernelspec": {
   "display_name": "Python 3",
   "language": "python",
   "name": "python3"
  },
  "language_info": {
   "codemirror_mode": {
    "name": "ipython",
    "version": 3
   },
   "file_extension": ".py",
   "mimetype": "text/x-python",
   "name": "python",
   "nbconvert_exporter": "python",
   "pygments_lexer": "ipython3",
   "version": "3.7.4"
  }
 },
 "nbformat": 4,
 "nbformat_minor": 2
}
