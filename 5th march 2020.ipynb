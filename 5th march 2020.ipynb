{
 "cells": [
  {
   "cell_type": "code",
   "execution_count": 1,
   "metadata": {},
   "outputs": [
    {
     "name": "stdout",
     "output_type": "stream",
     "text": [
      "enter any number:23\n",
      "odd\n"
     ]
    }
   ],
   "source": [
    "# 1.Check if the input number is even or odd.\n",
    "n=int(input(\"enter any number:\"))\n",
    "if n%2 == 0:\n",
    "    print(\"even\")\n",
    "else:\n",
    "    print(\"odd\")"
   ]
  },
  {
   "cell_type": "code",
   "execution_count": 6,
   "metadata": {},
   "outputs": [
    {
     "name": "stdout",
     "output_type": "stream",
     "text": [
      "enter a number:65\n",
      "enter a number:78\n",
      "143\n"
     ]
    }
   ],
   "source": [
    "#2.Print the addition, subtraction, multiplication, division and biggest number\n",
    "#addition\n",
    "n1=int(input(\"enter a number:\"))\n",
    "n2=int(input(\"enter a number:\"))\n",
    "c=n1+n2\n",
    "print(c)"
   ]
  },
  {
   "cell_type": "code",
   "execution_count": 7,
   "metadata": {},
   "outputs": [
    {
     "name": "stdout",
     "output_type": "stream",
     "text": [
      "enter a number:34\n",
      "enter a number:45\n",
      "-11\n"
     ]
    }
   ],
   "source": [
    "#subtraction\n",
    "n1=int(input(\"enter a number:\"))\n",
    "n2=int(input(\"enter a number:\"))\n",
    "c=n1-n2\n",
    "print(c)"
   ]
  },
  {
   "cell_type": "code",
   "execution_count": 8,
   "metadata": {},
   "outputs": [
    {
     "name": "stdout",
     "output_type": "stream",
     "text": [
      "enter a number:12\n",
      "enter a number:67\n",
      "804\n"
     ]
    }
   ],
   "source": [
    "#multiplication\n",
    "n1=int(input(\"enter a number:\"))\n",
    "n2=int(input(\"enter a number:\"))\n",
    "c=n1*n2\n",
    "print(c)"
   ]
  },
  {
   "cell_type": "code",
   "execution_count": 9,
   "metadata": {},
   "outputs": [
    {
     "name": "stdout",
     "output_type": "stream",
     "text": [
      "enter a number:56\n",
      "enter a number:78\n",
      "0.717948717948718\n"
     ]
    }
   ],
   "source": [
    "#division\n",
    "n1=int(input(\"enter a number:\"))\n",
    "n2=int(input(\"enter a number:\"))\n",
    "c=n1/n2\n",
    "print(c)"
   ]
  },
  {
   "cell_type": "code",
   "execution_count": 10,
   "metadata": {},
   "outputs": [
    {
     "name": "stdout",
     "output_type": "stream",
     "text": [
      "enter a number:1\n",
      "enter a number:2\n",
      "enter a number:3\n",
      "the largest number is 3\n"
     ]
    }
   ],
   "source": [
    "#biggest\n",
    "n1=int(input(\"enter a number:\"))\n",
    "n2=int(input(\"enter a number:\"))\n",
    "n3=int(input(\"enter a number:\"))\n",
    "if(n1>n2) and (n1>n3):\n",
    "    biggest=n1\n",
    "elif(n2>n1) and (n2>n3):\n",
    "    biggest=n2\n",
    "else:\n",
    "    biggest=n3\n",
    "print(\"the largest number is\",biggest)    \n",
    "    "
   ]
  },
  {
   "cell_type": "code",
   "execution_count": 2,
   "metadata": {},
   "outputs": [
    {
     "name": "stdout",
     "output_type": "stream",
     "text": [
      "enter the year:2018\n",
      "2018 is not a leap year\n"
     ]
    }
   ],
   "source": [
    "# 3.Check if the given year is leap year.\n",
    "n=int(input(\"enter the year:\"))\n",
    "if n%4 ==0 and n%400!=0 and n%100:\n",
    "    print(n,\"is a leap year \")\n",
    "else:    \n",
    "    print(n, \"is not a leap year\")"
   ]
  },
  {
   "cell_type": "code",
   "execution_count": 11,
   "metadata": {},
   "outputs": [
    {
     "name": "stdout",
     "output_type": "stream",
     "text": [
      "enter age:18\n",
      "not eligible for voting\n"
     ]
    }
   ],
   "source": [
    "# 4.Read the age of the person and test whether the person is eligible for voting or not\n",
    "age=int(input(\"enter age:\"))\n",
    "print(\"eligible for voting\"if age>18 else \"not eligible for voting\")"
   ]
  },
  {
   "cell_type": "code",
   "execution_count": 3,
   "metadata": {},
   "outputs": [
    {
     "name": "stdout",
     "output_type": "stream",
     "text": [
      "enter first number:23\n",
      "enter second nuber:45\n",
      "enter third number:56\n",
      "the greatest number is 56\n"
     ]
    }
   ],
   "source": [
    "# 5.Print greatest of three numbers.\n",
    "n1=int(input(\"enter first number:\"))\n",
    "n2=int(input(\"enter second nuber:\"))\n",
    "n3=int(input(\"enter third number:\"))\n",
    "if(n1>n2)and(n1>n3):\n",
    "    greatest=n1\n",
    "elif(n2>n1)and(n2>n3):\n",
    "    greatest=n2\n",
    "else:\n",
    "    greatest=n3\n",
    "print(\"the greatest number is\",greatest)    \n",
    "    \n",
    "    \n"
   ]
  },
  {
   "cell_type": "code",
   "execution_count": 4,
   "metadata": {},
   "outputs": [
    {
     "name": "stdout",
     "output_type": "stream",
     "text": [
      "enter number:12\n",
      "number is positive\n"
     ]
    }
   ],
   "source": [
    "# 6.Check the given is positive or negative.\n",
    "n=int(input(\"enter number:\"))\n",
    "if(n>0):\n",
    "    print(\"number is positive\")\n",
    "else:\n",
    "    print(\"number is negative\")"
   ]
  },
  {
   "cell_type": "code",
   "execution_count": 5,
   "metadata": {},
   "outputs": [
    {
     "name": "stdout",
     "output_type": "stream",
     "text": [
      "enter the week number:5\n",
      "thursday\n"
     ]
    }
   ],
   "source": [
    "#7.Give Input week number and print the weekday.\n",
    "weeknumber=input(\"enter the week number:\")\n",
    "weeknumber=int(weeknumber)\n",
    "if(weeknumber==1):\n",
    "    weekday=\"sunday\"\n",
    "elif(weeknumber==2):\n",
    "    weekday=\"monday\"\n",
    "elif(weeknumber==3):\n",
    "    weekday=\"tuesday\"\n",
    "elif(weeknumber==4):\n",
    "    weekday=\"wednesday\"\n",
    "elif(weeknumber==5):\n",
    "    weekday=\"thursday\"\n",
    "elif(weeknumber==6):\n",
    "    weekday=\"friday\"\n",
    "elif(weeknumber==7):\n",
    "    weekday=\"saturday\"\n",
    "else:\n",
    "    weekday=\"please enter the week number between 1 and 7\"\n",
    "print (weekday)   \n",
    "    \n",
    "    \n",
    "    \n"
   ]
  },
  {
   "cell_type": "code",
   "execution_count": 12,
   "metadata": {},
   "outputs": [
    {
     "name": "stdout",
     "output_type": "stream",
     "text": [
      "enter number6\n",
      "yes\n"
     ]
    }
   ],
   "source": [
    "# 8.Read the number as input and test whether the number is perfectly divisible by 2 and 3 but not 4.\n",
    "n=int(input(\"enter number\"))\n",
    "if n%2==0 and n%3==0 and n%4!=0:\n",
    "    print(\"yes\")\n",
    "else:\n",
    "    print(\"no\")\n"
   ]
  },
  {
   "cell_type": "code",
   "execution_count": 13,
   "metadata": {},
   "outputs": [
    {
     "name": "stdout",
     "output_type": "stream",
     "text": [
      "enter number6\n",
      "no\n"
     ]
    }
   ],
   "source": [
    "# 9.Read the number as input and test whether the number is perfectly divisible by 3 and 5, If yes then print \"Yes\" otherwise print \"No\".\n",
    "n=int(input(\"enter number\"))\n",
    "if n%3==0 and n%5==0:\n",
    "    print(\"yes\")\n",
    "else:\n",
    "    print(\"no\")"
   ]
  },
  {
   "cell_type": "code",
   "execution_count": 14,
   "metadata": {},
   "outputs": [
    {
     "name": "stdout",
     "output_type": "stream",
     "text": [
      "enter a number:2\n",
      "enter a number:4\n",
      "enter a number:6\n",
      "the maximum number is 6\n"
     ]
    }
   ],
   "source": [
    "# 10.Read the 3 numbers as input and print the maximum number\n",
    "n1=int(input(\"enter a number:\"))\n",
    "n2=int(input(\"enter a number:\"))\n",
    "n3=int(input(\"enter a number:\"))\n",
    "if(n1>n2)and(n1>n3):\n",
    "    maximum=n1\n",
    "elif(n2>n1)and(n2>n3):\n",
    "    maximum=n2\n",
    "else:\n",
    "    maximum=n3\n",
    "print(\"the maximum number is\",maximum)    \n",
    "    "
   ]
  },
  {
   "cell_type": "code",
   "execution_count": 6,
   "metadata": {},
   "outputs": [
    {
     "name": "stdout",
     "output_type": "stream",
     "text": [
      "enter natural numbers14\n",
      "i= 1\n",
      "i= 2\n",
      "i= 3\n",
      "i= 4\n",
      "i= 5\n",
      "i= 6\n",
      "i= 7\n",
      "i= 8\n",
      "i= 9\n",
      "i= 10\n",
      "i= 11\n",
      "i= 12\n",
      "i= 13\n",
      "i= 14\n"
     ]
    }
   ],
   "source": [
    "# 11.Read the Number N and Print the Natural Numbers from 1 to N\n",
    "n=int(input(\"enter natural numbers\"))\n",
    "i=1\n",
    "while i<=n:\n",
    "    print(\"i=\",i)\n",
    "    i=i+1"
   ]
  },
  {
   "cell_type": "code",
   "execution_count": 7,
   "metadata": {},
   "outputs": [
    {
     "name": "stdout",
     "output_type": "stream",
     "text": [
      "the sum is 3\n"
     ]
    }
   ],
   "source": [
    "# 12.Read the Number N and Print the Sum of N Natural numbers.\n",
    "n=2\n",
    "if n<0:\n",
    "    print(\"enter a positive number\")\n",
    "else:\n",
    "    sum=0\n",
    "    while(n>0):\n",
    "        sum+=n\n",
    "        n-=1\n",
    "    print(\"the sum is\",sum)    \n"
   ]
  },
  {
   "cell_type": "code",
   "execution_count": 8,
   "metadata": {},
   "outputs": [
    {
     "name": "stdout",
     "output_type": "stream",
     "text": [
      "enter the value of maximum value:45\n",
      "2\n",
      "4\n",
      "6\n",
      "8\n",
      "10\n",
      "12\n",
      "14\n",
      "16\n",
      "18\n",
      "20\n",
      "22\n",
      "24\n",
      "26\n",
      "28\n",
      "30\n",
      "32\n",
      "34\n",
      "36\n",
      "38\n",
      "40\n",
      "42\n",
      "44\n"
     ]
    }
   ],
   "source": [
    "# 13.Read the Number N and Print only Even numbers from 1 to N\n",
    "maximum=int(input(\"enter the value of maximum value:\"))\n",
    "for number in range(1,maximum+1):\n",
    "    if(number%2==0):\n",
    "        print(\"{0}\".format (number))"
   ]
  },
  {
   "cell_type": "code",
   "execution_count": 9,
   "metadata": {},
   "outputs": [
    {
     "name": "stdout",
     "output_type": "stream",
     "text": [
      "enter the value of maximum value:16\n",
      "1\n",
      "3\n",
      "5\n",
      "7\n",
      "9\n",
      "11\n",
      "13\n",
      "15\n"
     ]
    }
   ],
   "source": [
    "# 14.Read the Number N and Print only Odd numbers from 1 to N\n",
    "maximum=int(input(\"enter the value of maximum value:\"))\n",
    "for number in range(1,maximum+1):\n",
    "    if(number%2!=0):\n",
    "        print(\"{0}\".format (number))"
   ]
  },
  {
   "cell_type": "code",
   "execution_count": 10,
   "metadata": {},
   "outputs": [
    {
     "name": "stdout",
     "output_type": "stream",
     "text": [
      "display multiplication table 12\n",
      "12 * 1 = 12\n",
      "12 * 2 = 24\n",
      "12 * 3 = 36\n",
      "12 * 4 = 48\n",
      "12 * 5 = 60\n",
      "12 * 6 = 72\n",
      "12 * 7 = 84\n",
      "12 * 8 = 96\n",
      "12 * 9 = 108\n",
      "12 * 10 = 120\n"
     ]
    }
   ],
   "source": [
    "# 15.Print Multiplication table.\n",
    "n=int(input(\"display multiplication table \"))\n",
    "for i in range(1,11):\n",
    "    print(n,'*',i,'=',n*i)\n"
   ]
  },
  {
   "cell_type": "code",
   "execution_count": 11,
   "metadata": {},
   "outputs": [
    {
     "name": "stdout",
     "output_type": "stream",
     "text": [
      "enter an integer:24\n",
      "the divisors of the number are:\n",
      "1\n",
      "2\n",
      "3\n",
      "4\n",
      "6\n",
      "8\n",
      "12\n",
      "24\n"
     ]
    }
   ],
   "source": [
    "# 16.Find the divisor of a number.\n",
    "n=int(input(\"enter an integer:\"))\n",
    "print(\"the divisors of the number are:\")\n",
    "for i in range(1,n+1):\n",
    "    if(n%i==0):\n",
    "        print(i)"
   ]
  },
  {
   "cell_type": "code",
   "execution_count": null,
   "metadata": {},
   "outputs": [
    {
     "name": "stdout",
     "output_type": "stream",
     "text": [
      "enter first number:12\n",
      "enter second number:45\n"
     ]
    }
   ],
   "source": [
    "# 17.Print the GCD of two numbers\n",
    "n1=int(input(\"enter first number:\"))\n",
    "n2=int(input(\"enter second number:\"))\n",
    "i=1\n",
    "while(i<=n1 and i<=n2):\n",
    "    if(n1%i==0 and n2%i==0):\n",
    "        gcd=i\n",
    "        i=i+1\n",
    "print(\"gcd is\",gcd)        "
   ]
  },
  {
   "cell_type": "code",
   "execution_count": 1,
   "metadata": {},
   "outputs": [
    {
     "name": "stdout",
     "output_type": "stream",
     "text": [
      "enter any number:6\n",
      "the number is a perfect number!\n"
     ]
    }
   ],
   "source": [
    "# 18.Check if the given number is Perfect number.\n",
    "n=int(input(\"enter any number:\"))\n",
    "sum1=0\n",
    "for i in range(1,n):\n",
    "    if(n%i==0):\n",
    "        sum1=sum1+i\n",
    "if(sum1==n):\n",
    "    print(\"the number is a perfect number\")\n",
    "else:\n",
    "    print(\"the number is not a perfect number\")"
   ]
  },
  {
   "cell_type": "code",
   "execution_count": 1,
   "metadata": {},
   "outputs": [
    {
     "name": "stdout",
     "output_type": "stream",
     "text": [
      "enter a number:5\n",
      "5 is a prime number\n",
      "5 is a prime number\n",
      "5 is a prime number\n"
     ]
    }
   ],
   "source": [
    "# 19.Check if the given number is Prime\n",
    "num=int(input(\"enter a number:\"))\n",
    "if num>1:\n",
    "    for i in range(2,num):\n",
    "        if(num%i)==0:\n",
    "            print(num,\"is not a prime number\")\n",
    "            break\n",
    "        else:\n",
    "            print(num,\"is a prime number\")\n",
    "else:\n",
    "    print(num,\"is not a prime number\")\n"
   ]
  },
  {
   "cell_type": "code",
   "execution_count": 5,
   "metadata": {},
   "outputs": [
    {
     "name": "stdout",
     "output_type": "stream",
     "text": [
      "enter an integer:25\n",
      "factors are:\n",
      "5\n"
     ]
    }
   ],
   "source": [
    "#20.Find the Prime factors of a number\n",
    "n=int(input(\"enter an integer:\"))\n",
    "print(\"factors are:\")\n",
    "i=1\n",
    "while(i<n):\n",
    "    k=0\n",
    "    if(n%i==0):\n",
    "        j=1\n",
    "        while(j<=i):\n",
    "            if(i%j==0):\n",
    "                k=k+1\n",
    "            j=j+1\n",
    "        if(k==2):\n",
    "            print(i)\n",
    "    i=i+1       "
   ]
  },
  {
   "cell_type": "code",
   "execution_count": 16,
   "metadata": {},
   "outputs": [
    {
     "name": "stdout",
     "output_type": "stream",
     "text": [
      "enter a number145\n",
      "not palindrome\n"
     ]
    }
   ],
   "source": [
    "#21.Check if the given number is Palindrome.\n",
    "n=int(input(\"enter a number\"))\n",
    "print(\"palindrome\") if(str(n)==str(n)[::-1]) else print(\"not palindrome\")"
   ]
  },
  {
   "cell_type": "code",
   "execution_count": 19,
   "metadata": {},
   "outputs": [
    {
     "name": "stdout",
     "output_type": "stream",
     "text": [
      "enter english marks:12\n",
      "enter maths marks:13\n",
      "enter physics marks:14\n",
      "enter computers marks:15\n",
      "enter telugu marks:16\n",
      "total marks=70.000000\n",
      "marks percentage=14.000000\n",
      "Fail\n"
     ]
    }
   ],
   "source": [
    "#22.Calculate Grade of a Student.\n",
    "english=float(input(\"enter english marks:\"))\n",
    "maths=float(input(\"enter maths marks:\"))\n",
    "physics=float(input(\"enter physics marks:\"))\n",
    "computers=float(input(\"enter computers marks:\"))\n",
    "telugu=float(input(\"enter telugu marks:\"))\n",
    "total=english+maths+physics+computers+telugu\n",
    "percentage=(total/500)*100\n",
    "print(\"total marks=%2f\"%total)\n",
    "print(\"marks percentage=%2f\"%percentage)\n",
    "if(percentage>=90):\n",
    "    print(\"A grade\")\n",
    "if(percentage>=80):\n",
    "    print(\"B grade\")\n",
    "if(percentage>=70):\n",
    "    print(\"C grade\")\n",
    "if(percentage>=60):\n",
    "    print(\"D grade\")\n",
    "if(percentage>=50):\n",
    "    print(\"E grade\")\n",
    "else:\n",
    "    print(\"Fail\")"
   ]
  },
  {
   "cell_type": "code",
   "execution_count": null,
   "metadata": {},
   "outputs": [],
   "source": [
    "#23."
   ]
  }
 ],
 "metadata": {
  "kernelspec": {
   "display_name": "Python 3",
   "language": "python",
   "name": "python3"
  },
  "language_info": {
   "codemirror_mode": {
    "name": "ipython",
    "version": 3
   },
   "file_extension": ".py",
   "mimetype": "text/x-python",
   "name": "python",
   "nbconvert_exporter": "python",
   "pygments_lexer": "ipython3",
   "version": "3.7.4"
  }
 },
 "nbformat": 4,
 "nbformat_minor": 2
}
