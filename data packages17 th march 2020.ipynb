{
 "cells": [
  {
   "cell_type": "markdown",
   "metadata": {},
   "source": [
    "### 1.what are csv,tsv files?\n",
    "### 2.what are packages available to handle csv data?\n",
    "### 3.what is json format?\n",
    "### 4.How to handle json data?\n",
    "### 5.what are packages avilable for image data?\n",
    "### 6.what are the packages availble for audio data?\n",
    "### 7.with all the packages above check how to read the data?\n",
    "### 8.How to dispaly the same data"
   ]
  },
  {
   "cell_type": "markdown",
   "metadata": {},
   "source": [
    "## Replace comma in the file sample.csv with tab and store it in a file as tsv format.\n",
    "#### i/p : A csv file\n",
    "#### o/p: Is atsv file with same data\n",
    "#### step1: Read the data using open\n",
    "#### step2: Replace comma with tab\n",
    "#### step3: Write the data into file with extension tsv"
   ]
  },
  {
   "cell_type": "markdown",
   "metadata": {},
   "source": [
    "# Packages to handle csv data\n",
    "    * pandas\n",
    "    * csv\n",
    "    * numpy"
   ]
  },
  {
   "cell_type": "code",
   "execution_count": 6,
   "metadata": {},
   "outputs": [
    {
     "data": {
      "text/plain": [
       "pandas.core.frame.DataFrame"
      ]
     },
     "execution_count": 6,
     "metadata": {},
     "output_type": "execute_result"
    }
   ],
   "source": [
    "# import package name\n",
    "import pandas\n",
    "path =\"sample.csv\"\n",
    "data = pandas.read_csv(path)\n",
    "type(data)"
   ]
  },
  {
   "cell_type": "code",
   "execution_count": 7,
   "metadata": {},
   "outputs": [
    {
     "data": {
      "text/html": [
       "<div>\n",
       "<style scoped>\n",
       "    .dataframe tbody tr th:only-of-type {\n",
       "        vertical-align: middle;\n",
       "    }\n",
       "\n",
       "    .dataframe tbody tr th {\n",
       "        vertical-align: top;\n",
       "    }\n",
       "\n",
       "    .dataframe thead th {\n",
       "        text-align: right;\n",
       "    }\n",
       "</style>\n",
       "<table border=\"1\" class=\"dataframe\">\n",
       "  <thead>\n",
       "    <tr style=\"text-align: right;\">\n",
       "      <th></th>\n",
       "      <th>name</th>\n",
       "      <th>salary</th>\n",
       "      <th>year</th>\n",
       "    </tr>\n",
       "  </thead>\n",
       "  <tbody>\n",
       "    <tr>\n",
       "      <td>0</td>\n",
       "      <td>Raj acharya</td>\n",
       "      <td>45000</td>\n",
       "      <td>2015</td>\n",
       "    </tr>\n",
       "    <tr>\n",
       "      <td>1</td>\n",
       "      <td>SaiTeja Ram</td>\n",
       "      <td>78000</td>\n",
       "      <td>2012</td>\n",
       "    </tr>\n",
       "    <tr>\n",
       "      <td>2</td>\n",
       "      <td>Hemendra Arya</td>\n",
       "      <td>32000</td>\n",
       "      <td>2018</td>\n",
       "    </tr>\n",
       "    <tr>\n",
       "      <td>3</td>\n",
       "      <td>Revanth Sundaram</td>\n",
       "      <td>15000</td>\n",
       "      <td>2019</td>\n",
       "    </tr>\n",
       "  </tbody>\n",
       "</table>\n",
       "</div>"
      ],
      "text/plain": [
       "               name  salary  year\n",
       "0       Raj acharya   45000  2015\n",
       "1       SaiTeja Ram   78000  2012\n",
       "2     Hemendra Arya   32000  2018\n",
       "3  Revanth Sundaram   15000  2019"
      ]
     },
     "execution_count": 7,
     "metadata": {},
     "output_type": "execute_result"
    }
   ],
   "source": [
    "data"
   ]
  },
  {
   "cell_type": "code",
   "execution_count": 8,
   "metadata": {},
   "outputs": [
    {
     "data": {
      "text/html": [
       "<div>\n",
       "<style scoped>\n",
       "    .dataframe tbody tr th:only-of-type {\n",
       "        vertical-align: middle;\n",
       "    }\n",
       "\n",
       "    .dataframe tbody tr th {\n",
       "        vertical-align: top;\n",
       "    }\n",
       "\n",
       "    .dataframe thead th {\n",
       "        text-align: right;\n",
       "    }\n",
       "</style>\n",
       "<table border=\"1\" class=\"dataframe\">\n",
       "  <thead>\n",
       "    <tr style=\"text-align: right;\">\n",
       "      <th></th>\n",
       "      <th>name</th>\n",
       "      <th>salary</th>\n",
       "      <th>year</th>\n",
       "    </tr>\n",
       "  </thead>\n",
       "  <tbody>\n",
       "    <tr>\n",
       "      <td>0</td>\n",
       "      <td>Raj acharya</td>\n",
       "      <td>45000</td>\n",
       "      <td>2015</td>\n",
       "    </tr>\n",
       "    <tr>\n",
       "      <td>1</td>\n",
       "      <td>SaiTeja Ram</td>\n",
       "      <td>78000</td>\n",
       "      <td>2012</td>\n",
       "    </tr>\n",
       "  </tbody>\n",
       "</table>\n",
       "</div>"
      ],
      "text/plain": [
       "          name  salary  year\n",
       "0  Raj acharya   45000  2015\n",
       "1  SaiTeja Ram   78000  2012"
      ]
     },
     "execution_count": 8,
     "metadata": {},
     "output_type": "execute_result"
    }
   ],
   "source": [
    "data.head(2)"
   ]
  },
  {
   "cell_type": "code",
   "execution_count": 11,
   "metadata": {},
   "outputs": [],
   "source": [
    "import csv"
   ]
  },
  {
   "cell_type": "code",
   "execution_count": 12,
   "metadata": {},
   "outputs": [
    {
     "name": "stdout",
     "output_type": "stream",
     "text": [
      "Help on built-in function reader in module _csv:\n",
      "\n",
      "reader(...)\n",
      "    csv_reader = reader(iterable [, dialect='excel']\n",
      "                            [optional keyword args])\n",
      "        for row in csv_reader:\n",
      "            process(row)\n",
      "    \n",
      "    The \"iterable\" argument can be any object that returns a line\n",
      "    of input for each iteration, such as a file object or a list.  The\n",
      "    optional \"dialect\" parameter is discussed below.  The function\n",
      "    also accepts optional keyword arguments which override settings\n",
      "    provided by the dialect.\n",
      "    \n",
      "    The returned object is an iterator.  Each iteration returns a row\n",
      "    of the CSV file (which can span multiple input lines).\n",
      "\n"
     ]
    }
   ],
   "source": [
    "help(csv.reader)"
   ]
  },
  {
   "cell_type": "code",
   "execution_count": 13,
   "metadata": {},
   "outputs": [
    {
     "name": "stdout",
     "output_type": "stream",
     "text": [
      "['i am ']\n",
      "['Machine Learning Learner']\n"
     ]
    }
   ],
   "source": [
    "check=csv.reader([\"i am \",\"Machine Learning Learner\"])\n",
    "for row in check:\n",
    "    print(row)"
   ]
  },
  {
   "cell_type": "code",
   "execution_count": 14,
   "metadata": {},
   "outputs": [
    {
     "name": "stdout",
     "output_type": "stream",
     "text": [
      "['i am ', ' renu ']\n",
      "['Machine Learning Learner']\n"
     ]
    }
   ],
   "source": [
    "check=csv.reader([\"i am , renu \",\"Machine Learning Learner\"])\n",
    "for row in check:\n",
    "    print(row)"
   ]
  },
  {
   "cell_type": "code",
   "execution_count": 23,
   "metadata": {},
   "outputs": [
    {
     "data": {
      "text/plain": [
       "['name', 'salary', 'year']"
      ]
     },
     "execution_count": 23,
     "metadata": {},
     "output_type": "execute_result"
    }
   ],
   "source": [
    "f=open(path)\n",
    "#type(f)\n",
    "lines=csv.reader(f)\n",
    "next (lines)\n"
   ]
  },
  {
   "cell_type": "code",
   "execution_count": 15,
   "metadata": {},
   "outputs": [
    {
     "name": "stdout",
     "output_type": "stream",
     "text": [
      "2015\n",
      "2012\n",
      "2018\n",
      "2019\n"
     ]
    }
   ],
   "source": [
    "f=open(path)\n",
    "#type(f)\n",
    "lines=csv.reader(f)\n",
    "next (lines)\n",
    "for row in lines:\n",
    "    print(row[2])\n",
    "#list(lines)    "
   ]
  },
  {
   "cell_type": "code",
   "execution_count": 24,
   "metadata": {},
   "outputs": [
    {
     "name": "stdout",
     "output_type": "stream",
     "text": [
      "check\n",
      "['Raj acharya', '45000', '2015']\n",
      "<class 'list'>\n",
      "check\n",
      "['SaiTeja Ram', '78000', '2012']\n",
      "<class 'list'>\n",
      "check\n",
      "['Hemendra Arya', '32000', '2018']\n",
      "<class 'list'>\n",
      "check\n",
      "['Revanth Sundaram', '15000', '2019']\n",
      "<class 'list'>\n"
     ]
    },
    {
     "data": {
      "text/plain": [
       "[['Raj acharya', '45000', '2015'],\n",
       " ['SaiTeja Ram', '78000', '2012'],\n",
       " ['Hemendra Arya', '32000', '2018'],\n",
       " ['Revanth Sundaram', '15000', '2019']]"
      ]
     },
     "execution_count": 24,
     "metadata": {},
     "output_type": "execute_result"
    }
   ],
   "source": [
    "data2 = []\n",
    "for row in lines:\n",
    "    print(\"check\")\n",
    "    print(row)\n",
    "    print(type(row))\n",
    "    data2.append(row)\n",
    "data2"
   ]
  },
  {
   "cell_type": "code",
   "execution_count": 25,
   "metadata": {},
   "outputs": [
    {
     "name": "stdout",
     "output_type": "stream",
     "text": [
      "<class 'csv.DictReader'>\n",
      "odict_items([('name', 'Raj acharya'), ('salary', '45000'), ('year', '2015')])\n",
      "odict_items([('name', 'SaiTeja Ram'), ('salary', '78000'), ('year', '2012')])\n",
      "odict_items([('name', 'Hemendra Arya'), ('salary', '32000'), ('year', '2018')])\n",
      "odict_items([('name', 'Revanth Sundaram'), ('salary', '15000'), ('year', '2019')])\n"
     ]
    }
   ],
   "source": [
    "with open (path)as f:\n",
    "    data=csv.DictReader(f)\n",
    "    print(type(data))\n",
    "    for row in data:\n",
    "        print(row.items())"
   ]
  },
  {
   "cell_type": "code",
   "execution_count": 19,
   "metadata": {},
   "outputs": [
    {
     "name": "stdout",
     "output_type": "stream",
     "text": [
      "<class 'csv.DictReader'>\n",
      "45000\n",
      "78000\n",
      "32000\n",
      "15000\n"
     ]
    }
   ],
   "source": [
    "with open(path) as f:\n",
    "    data = csv.DictReader(f)\n",
    "    print(type(data))\n",
    "    for row in data:\n",
    "        row =list(row.items())\n",
    "        print(row[1][1])"
   ]
  },
  {
   "cell_type": "code",
   "execution_count": 20,
   "metadata": {},
   "outputs": [
    {
     "name": "stdout",
     "output_type": "stream",
     "text": [
      "Help on class DictReader in module csv:\n",
      "\n",
      "class DictReader(builtins.object)\n",
      " |  DictReader(f, fieldnames=None, restkey=None, restval=None, dialect='excel', *args, **kwds)\n",
      " |  \n",
      " |  Methods defined here:\n",
      " |  \n",
      " |  __init__(self, f, fieldnames=None, restkey=None, restval=None, dialect='excel', *args, **kwds)\n",
      " |      Initialize self.  See help(type(self)) for accurate signature.\n",
      " |  \n",
      " |  __iter__(self)\n",
      " |  \n",
      " |  __next__(self)\n",
      " |  \n",
      " |  ----------------------------------------------------------------------\n",
      " |  Data descriptors defined here:\n",
      " |  \n",
      " |  __dict__\n",
      " |      dictionary for instance variables (if defined)\n",
      " |  \n",
      " |  __weakref__\n",
      " |      list of weak references to the object (if defined)\n",
      " |  \n",
      " |  fieldnames\n",
      "\n"
     ]
    }
   ],
   "source": [
    "help(csv.DictReader)"
   ]
  },
  {
   "cell_type": "code",
   "execution_count": null,
   "metadata": {},
   "outputs": [],
   "source": []
  }
 ],
 "metadata": {
  "kernelspec": {
   "display_name": "Python 3",
   "language": "python",
   "name": "python3"
  },
  "language_info": {
   "codemirror_mode": {
    "name": "ipython",
    "version": 3
   },
   "file_extension": ".py",
   "mimetype": "text/x-python",
   "name": "python",
   "nbconvert_exporter": "python",
   "pygments_lexer": "ipython3",
   "version": "3.7.4"
  }
 },
 "nbformat": 4,
 "nbformat_minor": 2
}
