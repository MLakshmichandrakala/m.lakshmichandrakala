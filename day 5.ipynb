{
 "cells": [
  {
   "cell_type": "markdown",
   "metadata": {},
   "source": [
    "- flowers\n",
    "     -rose\n",
    "     -lilly\n",
    "     -jasmine"
   ]
  },
  {
   "cell_type": "markdown",
   "metadata": {},
   "source": [
    "**chandu"
   ]
  },
  {
   "cell_type": "markdown",
   "metadata": {},
   "source": [
    "*ashok"
   ]
  },
  {
   "cell_type": "markdown",
   "metadata": {},
   "source": [
    "**chandu**"
   ]
  },
  {
   "cell_type": "markdown",
   "metadata": {},
   "source": [
    "- flowers\n",
    "        - lilly\n",
    "        - rose"
   ]
  },
  {
   "cell_type": "markdown",
   "metadata": {},
   "source": [
    "- flowers\n",
    "    - lilly\n",
    "    - rose"
   ]
  },
  {
   "cell_type": "code",
   "execution_count": 1,
   "metadata": {},
   "outputs": [
    {
     "ename": "SyntaxError",
     "evalue": "invalid syntax (<ipython-input-1-293166799d01>, line 1)",
     "output_type": "error",
     "traceback": [
      "\u001b[1;36m  File \u001b[1;32m\"<ipython-input-1-293166799d01>\"\u001b[1;36m, line \u001b[1;32m1\u001b[0m\n\u001b[1;33m    *ashok*\u001b[0m\n\u001b[1;37m           ^\u001b[0m\n\u001b[1;31mSyntaxError\u001b[0m\u001b[1;31m:\u001b[0m invalid syntax\n"
     ]
    }
   ],
   "source": [
    "*ashok*"
   ]
  },
  {
   "cell_type": "markdown",
   "metadata": {},
   "source": [
    "*ashok*"
   ]
  },
  {
   "cell_type": "markdown",
   "metadata": {},
   "source": [
    "# markdown"
   ]
  },
  {
   "cell_type": "markdown",
   "metadata": {},
   "source": [
    "## markdown"
   ]
  },
  {
   "cell_type": "markdown",
   "metadata": {},
   "source": [
    "# flower"
   ]
  },
  {
   "cell_type": "markdown",
   "metadata": {},
   "source": [
    "![text](https://3.bp.blogspot.com/-5-BdntCf_Uw/T4K2kELJBFI/AAAAAAAAFTY/NcDzn8o1-Js/s1600/flower_basket_bountiful.jpg)"
   ]
  },
  {
   "cell_type": "markdown",
   "metadata": {},
   "source": [
    "# rose"
   ]
  },
  {
   "cell_type": "markdown",
   "metadata": {},
   "source": [
    "[rose](https://www.wallpapers13.com/wp-content/uploads/2015/12/Flowers-rain-drops-roses-water-red-free-download-wallpaper-915x515.jpg)"
   ]
  },
  {
   "cell_type": "markdown",
   "metadata": {},
   "source": [
    "1. ashok\n",
    "2. geetha"
   ]
  },
  {
   "cell_type": "markdown",
   "metadata": {},
   "source": [
    "1. ashok\n",
    "2. chandu\n",
    "3. sudheer\n",
    "  1. geetha\n",
    "  2. rathu\n",
    "  3. anju\n"
   ]
  },
  {
   "cell_type": "markdown",
   "metadata": {},
   "source": [
    "1. ashok\n",
    "    1. sudher\n",
    "        "
   ]
  },
  {
   "cell_type": "markdown",
   "metadata": {},
   "source": [
    "- flowers\n",
    "- animals"
   ]
  },
  {
   "cell_type": "markdown",
   "metadata": {},
   "source": [
    "- flowers\n",
    "    - rose\n",
    "    - lilly\n",
    "    - jasmine\n",
    "    - marigold"
   ]
  },
  {
   "cell_type": "markdown",
   "metadata": {},
   "source": [
    "- animals\n",
    "    -  tiger\n",
    "    -  lion\n",
    "    -  rabbit\n",
    "    -  peacock"
   ]
  },
  {
   "cell_type": "markdown",
   "metadata": {},
   "source": [
    "**ashokkumar reddy**"
   ]
  },
  {
   "cell_type": "markdown",
   "metadata": {},
   "source": [
    "*geetha laxmi*"
   ]
  },
  {
   "cell_type": "markdown",
   "metadata": {},
   "source": [
    "**ashok kumar reddy**<br>\n",
    "*geetha*"
   ]
  },
  {
   "cell_type": "markdown",
   "metadata": {},
   "source": [
    "**geethashok**"
   ]
  },
  {
   "cell_type": "markdown",
   "metadata": {},
   "source": [
    ".  rings\n",
    "   .  gold ring\n",
    "   .  platinum ring\n",
    "   .  diamond ring"
   ]
  },
  {
   "cell_type": "code",
   "execution_count": null,
   "metadata": {},
   "outputs": [],
   "source": []
  }
 ],
 "metadata": {
  "kernelspec": {
   "display_name": "Python 3",
   "language": "python",
   "name": "python3"
  },
  "language_info": {
   "codemirror_mode": {
    "name": "ipython",
    "version": 3
   },
   "file_extension": ".py",
   "mimetype": "text/x-python",
   "name": "python",
   "nbconvert_exporter": "python",
   "pygments_lexer": "ipython3",
   "version": "3.7.4"
  }
 },
 "nbformat": 4,
 "nbformat_minor": 2
}
