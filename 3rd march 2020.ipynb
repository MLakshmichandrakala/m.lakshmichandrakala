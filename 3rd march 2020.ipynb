{
 "cells": [
  {
   "cell_type": "markdown",
   "metadata": {},
   "source": [
    "# built in functions in string mostly we used"
   ]
  },
  {
   "cell_type": "markdown",
   "metadata": {},
   "source": [
    "1.find 2.isalpha 3.isalnum 4.replace 5.count 6.isupper 7.islower 8.upper 9.split 10.swap 11.isupper 12.lower 13. isdigit 14.isnumeric "
   ]
  },
  {
   "cell_type": "code",
   "execution_count": 14,
   "metadata": {},
   "outputs": [
    {
     "name": "stdout",
     "output_type": "stream",
     "text": [
      "4\n",
      "-1\n",
      "False\n",
      "True\n",
      "False\n",
      "True\n",
      "ABC XYZ\n",
      "['abc', 'xyz']\n",
      "['xyz']\n"
     ]
    }
   ],
   "source": [
    "s1=\"abc xyz\"\n",
    "s2=\"xyz\"\n",
    "print(s1.find(s2))\n",
    "print(s1.find(\"uvw\"))\n",
    "print(s1.isalpha())#false\n",
    "print(s2.isalpha())#true\n",
    "print(s1.isalnum())#false\n",
    "print(s2.isalnum())#true\n",
    "print(s1.swapcase())#abcxyz\n",
    "print(s1.split())#default value is space\n",
    "print(s2.split(\",\"))"
   ]
  },
  {
   "cell_type": "code",
   "execution_count": 2,
   "metadata": {},
   "outputs": [
    {
     "name": "stdout",
     "output_type": "stream",
     "text": [
      "enter string1bad\n",
      "enter string1water\n",
      "b w\n",
      "a a\n",
      "d t\n",
      "* e\n",
      "* r\n"
     ]
    }
   ],
   "source": [
    "s1=input(\"enter string1\")#bad\n",
    "s2=input(\"enter string1\")#water\n",
    "if(len(s1)==len(s2)):\n",
    "    for i in range(len(s1)):\n",
    "        print(s1[i],s2[i])\n",
    "elif(len(s1)<len(s2)):\n",
    "    for i in range(len(s1)):\n",
    "        print(s1[i],s2[i])\n",
    "    for i in range(len(s1),len(s2)):\n",
    "        print(\"*\",s2[i])\n",
    "        \n",
    "        "
   ]
  },
  {
   "cell_type": "code",
   "execution_count": 5,
   "metadata": {},
   "outputs": [
    {
     "name": "stdout",
     "output_type": "stream",
     "text": [
      "enter string1bad\n",
      "enter string1water\n",
      "b w\n",
      "a a\n",
      "d t\n",
      "* e\n",
      "* r\n"
     ]
    }
   ],
   "source": [
    "# take another programing in the strings\n",
    "s1=input(\"enter string1\")#bad\n",
    "s2=input(\"enter string1\")#water\n",
    "if(len(s1)==len(s2)):\n",
    "    for i in range(len(s1)):\n",
    "        print(s1[i],s2[i])\n",
    "elif(len(s1)<len(s2)):\n",
    "    for i in range(len(s1)):\n",
    "        print(s1[i],s2[i])\n",
    "    for i in range(len(s1),len(s2)):\n",
    "        print(\"*\",s2[i])\n",
    "else:\n",
    "    for i in range(len(s2)):\n",
    "        print(s2[i],s1[i])\n",
    "    for i in range(len(s2),len(s1)):\n",
    "        print(s1[i],\"*\")\n",
    "        \n",
    "        "
   ]
  },
  {
   "cell_type": "code",
   "execution_count": 8,
   "metadata": {},
   "outputs": [
    {
     "name": "stdout",
     "output_type": "stream",
     "text": [
      "enter string1bad\n",
      "enter string1water\n",
      "b w\n",
      "a a\n",
      "d t\n"
     ]
    }
   ],
   "source": [
    "s1=input(\"enter string1\")#bad\n",
    "s2=input(\"enter string1\")#water\n",
    "if len(s1)<len(s2):\n",
    "    diff=len(s2)-len(s2)\n",
    "    s1=s1+\"*\"*diff\n",
    "elif len(s1)>len(s2):\n",
    "    diff=len(s1)-len(s2)\n",
    "    s2=s2+\"*\"*diff\n",
    "for i in range(len(s1)):\n",
    "    print(s1[i],s2[i])"
   ]
  },
  {
   "cell_type": "code",
   "execution_count": 13,
   "metadata": {},
   "outputs": [
    {
     "name": "stdout",
     "output_type": "stream",
     "text": [
      "enter a stringorange\n",
      "puboif"
     ]
    }
   ],
   "source": [
    "# input:orange\n",
    "# output:puboif\n",
    "s=input(\"enter a string\")\n",
    "vowels=\"aeiouAEIOU\"\n",
    "for i in s:\n",
    "    if (i in vowels):\n",
    "        print(chr(ord(i)+1),end=\"\")\n",
    "    else:\n",
    "        if(i>'a' and i<'e'):\n",
    "            print('e',end=\"\")\n",
    "        elif(i>'e' and i<'i'):\n",
    "            print('i',end=\"\")\n",
    "        elif(i>'i' and i<'o'):\n",
    "            print('o',end=\"\")\n",
    "        elif(i>'o' and i<'u'):\n",
    "            print('u',end=\"\")\n",
    "        elif(i>'u'and i<='z'):\n",
    "            print('a')\n",
    "        "
   ]
  },
  {
   "cell_type": "markdown",
   "metadata": {},
   "source": [
    "# opreator:"
   ]
  },
  {
   "cell_type": "code",
   "execution_count": 1,
   "metadata": {},
   "outputs": [
    {
     "name": "stdout",
     "output_type": "stream",
     "text": [
      "30\n",
      "-10\n",
      "200\n",
      "0.5\n",
      "10\n",
      "0\n",
      "100000000000000000000\n"
     ]
    }
   ],
   "source": [
    "# 1.arthimetic operator : + , - , * , / , % , //(floor divison),***(exponent)\n",
    "x=10\n",
    "y=20\n",
    "print(x+y)\n",
    "print(x-y)\n",
    "print(x*y)\n",
    "print(x/y)\n",
    "print(x%y)\n",
    "print(x//y)\n",
    "print(x**y)# 10^20"
   ]
  },
  {
   "cell_type": "code",
   "execution_count": 2,
   "metadata": {},
   "outputs": [
    {
     "name": "stdout",
     "output_type": "stream",
     "text": [
      "True\n",
      "False\n",
      "True\n",
      "False\n",
      "False\n",
      "True\n"
     ]
    }
   ],
   "source": [
    "# 2.relational operator:<,>,<=,>=,==,!=\n",
    "x=10\n",
    "y=20\n",
    "print(x<y)\n",
    "print(x>y)\n",
    "print(x<=y)\n",
    "print(x>=y)\n",
    "print(x==y)\n",
    "print(x!=y)"
   ]
  },
  {
   "cell_type": "code",
   "execution_count": 3,
   "metadata": {},
   "outputs": [
    {
     "name": "stdout",
     "output_type": "stream",
     "text": [
      "False\n",
      "True\n",
      "False\n"
     ]
    }
   ],
   "source": [
    "#3. logical operators : and ,or,not\n",
    "print(x<y and x<5)\n",
    "print(x<y or x<5)\n",
    "print(not x<y)"
   ]
  },
  {
   "cell_type": "code",
   "execution_count": 16,
   "metadata": {},
   "outputs": [
    {
     "name": "stdout",
     "output_type": "stream",
     "text": [
      "20\n"
     ]
    }
   ],
   "source": [
    "# 4.assinment operators: = ,+=,-=,*=,/=,%=,//=,**=\n",
    "x=10\n",
    "y=20\n",
    "x+=10 #x=x+10\n",
    "print(x)"
   ]
  },
  {
   "cell_type": "code",
   "execution_count": 17,
   "metadata": {},
   "outputs": [
    {
     "name": "stdout",
     "output_type": "stream",
     "text": [
      "0\n",
      "30\n",
      "30\n",
      "40\n",
      "2\n",
      "-11\n"
     ]
    }
   ],
   "source": [
    "# 5.bit-wise operators : &,|,^,~,<<,>>\n",
    "x=10  #0000 1010\n",
    "y=20  #0001 0100\n",
    "print(x&y) #0000 0000\n",
    "print(x|y) #0001 1110\n",
    "print(x^y) #0001 1110\n",
    "print(x<<2) #0010 1000\n",
    "print(x>>2) #0000 0010\n",
    "print(~x) #"
   ]
  },
  {
   "cell_type": "code",
   "execution_count": 21,
   "metadata": {},
   "outputs": [
    {
     "name": "stdout",
     "output_type": "stream",
     "text": [
      "False\n",
      "True\n",
      "True\n",
      "False\n"
     ]
    }
   ],
   "source": [
    "#6. membership operator: in ,not in\n",
    "s=\"python\"\n",
    "print('z' in s)\n",
    "print('t' in s)\n",
    "print('z' not in s)\n",
    "print('t' not in s)"
   ]
  },
  {
   "cell_type": "code",
   "execution_count": 23,
   "metadata": {},
   "outputs": [
    {
     "name": "stdout",
     "output_type": "stream",
     "text": [
      "True\n",
      "False\n",
      "False\n",
      "True\n"
     ]
    }
   ],
   "source": [
    "# 7.ide ntity operator: is is not\n",
    "x=10\n",
    "y=20\n",
    "z=10\n",
    "print(x is z) # id(x)==id(z)-->true\n",
    "print(x is y)\n",
    "print(x is not z)\n",
    "print(x is not y)\n"
   ]
  },
  {
   "cell_type": "code",
   "execution_count": 25,
   "metadata": {},
   "outputs": [
    {
     "name": "stdout",
     "output_type": "stream",
     "text": [
      "20\n",
      "20\n"
     ]
    }
   ],
   "source": [
    "# 8. ternary operator\n",
    "# traditional way\n",
    "x=10\n",
    "y=20\n",
    "if (x>y):\n",
    "    print(x)\n",
    "else:\n",
    "    print(y)\n",
    "# ternary operator    \n",
    "print(x) if (x>y) else print(y)   "
   ]
  },
  {
   "cell_type": "markdown",
   "metadata": {},
   "source": [
    "# conditional control statements: if ,ifelse,elif\n",
    "Accept 3 subjects marks of a student and check whether student got minimum 30 marks in all subjects or not\n",
    "if he gets minimum 30 in all subjects the find average marks else \n",
    "print FAIL.\n",
    "avg>=75-->A\n",
    "avg>75 and avg>=60-->B\n",
    "avg>60 and avg>=45-->C\n",
    "avg>45 and avg>=30-->D\n",
    "else FAIL"
   ]
  },
  {
   "cell_type": "code",
   "execution_count": 3,
   "metadata": {},
   "outputs": [
    {
     "name": "stdout",
     "output_type": "stream",
     "text": [
      "enter sub1 marks14\n",
      "enter sub2 marks15\n",
      "enter sub3 marks34\n",
      "FAIL\n"
     ]
    }
   ],
   "source": [
    "s1=int(input(\"enter sub1 marks\"))\n",
    "s2=int(input(\"enter sub2 marks\"))\n",
    "s3=int(input(\"enter sub3 marks\"))\n",
    "if(s1>30 and s2>30 and s3>30):\n",
    "    avg=(s1+s2+s3)/3\n",
    "    if (avg>=75):\n",
    "        print(\"A\")\n",
    "    elif (avg<75 and avg>=60): \n",
    "        print(\"B\")\n",
    "    elif (avg<60 and avg>=45):\n",
    "        print(\"C\")\n",
    "    elif (avg<45 and avg>=30):\n",
    "        print(\"D\")\n",
    "    else:\n",
    "        print(\"FAIL\")\n",
    "else:\n",
    "    print(\"FAIL\")\n"
   ]
  },
  {
   "cell_type": "code",
   "execution_count": 4,
   "metadata": {},
   "outputs": [
    {
     "data": {
      "text/plain": [
       "'0b10100'"
      ]
     },
     "execution_count": 4,
     "metadata": {},
     "output_type": "execute_result"
    }
   ],
   "source": [
    "bin(y)"
   ]
  },
  {
   "cell_type": "code",
   "execution_count": 6,
   "metadata": {},
   "outputs": [
    {
     "name": "stdout",
     "output_type": "stream",
     "text": [
      "enter a value12\n",
      "1\n",
      "2\n",
      "3\n",
      "4\n",
      "5\n",
      "6\n",
      "7\n",
      "8\n",
      "9\n",
      "10\n",
      "11\n",
      "12\n"
     ]
    }
   ],
   "source": [
    "# loops: while ,for \n",
    "i=1\n",
    "n=int(input(\"enter a value\"))\n",
    "while i<=n:\n",
    "    print(i)\n",
    "    i+=1"
   ]
  },
  {
   "cell_type": "code",
   "execution_count": 8,
   "metadata": {},
   "outputs": [
    {
     "name": "stdout",
     "output_type": "stream",
     "text": [
      "enter a value10\n",
      "12345678910\n",
      "12345678910"
     ]
    }
   ],
   "source": [
    "# for loop\n",
    "i=1\n",
    "n=int(input(\"enter a value\"))\n",
    "while i<=n:\n",
    "    print(i,end=\"\")\n",
    "    i+=1\n",
    "print()\n",
    "for i in range(1,n+1):\n",
    "    print(i,end=\"\")"
   ]
  },
  {
   "cell_type": "code",
   "execution_count": 15,
   "metadata": {},
   "outputs": [
    {
     "name": "stdout",
     "output_type": "stream",
     "text": [
      "enter a stringabcd\n",
      "a\n",
      "b\n",
      "c\n",
      "d\n"
     ]
    }
   ],
   "source": [
    "# accept a string as an input and print all the characters of the \n",
    "# string without using len() and using while loop\n",
    "s=input(\"enter a string\")\n",
    "l=0 # length of the string\n",
    "j=0\n",
    "for i in s: # counting no.of characters of string\n",
    "    l+=1\n",
    "while j<l:  # printing characters\n",
    "    print(s[j])\n",
    "    j+=1\n",
    "        "
   ]
  },
  {
   "cell_type": "code",
   "execution_count": 18,
   "metadata": {},
   "outputs": [
    {
     "name": "stdout",
     "output_type": "stream",
     "text": [
      "enter a stringmadam\n",
      "palindrome\n"
     ]
    }
   ],
   "source": [
    "# accept a string as an input and check whether the string is palindrome or not \n",
    "# input:madam\n",
    "# output:palindrome\n",
    "s=input(\"enter a string\")\n",
    "if s==s[ ::-1]:\n",
    "    print(\"palindrome\")\n",
    "else:\n",
    "    print(\"not palindrome\")"
   ]
  },
  {
   "cell_type": "code",
   "execution_count": 19,
   "metadata": {},
   "outputs": [
    {
     "name": "stdout",
     "output_type": "stream",
     "text": [
      "enter a stringmadam\n",
      "palindrome\n"
     ]
    }
   ],
   "source": [
    "s=input(\"enter a string\")\n",
    "print(\"palindrome\") if s==s[::-1] else print(\"not palindrome\")"
   ]
  },
  {
   "cell_type": "code",
   "execution_count": 4,
   "metadata": {},
   "outputs": [
    {
     "name": "stdout",
     "output_type": "stream",
     "text": [
      "enter a number1345\n",
      "number is a palindrome\n"
     ]
    }
   ],
   "source": [
    "# Accept  number as an input and check whether the string is palindrome or not\n",
    "s=int(input(\"enter a number\"))\n",
    "temp=n\n",
    "rev=0\n",
    "while(n>0):\n",
    "    dig=n%10\n",
    "    rev=rev*10+dig\n",
    "    n=n//10\n",
    "if(temp==rev):\n",
    "    print(\"number is a palindrome\")\n",
    "else:\n",
    "    print(\"number is a not palindrome\")\n",
    "    "
   ]
  },
  {
   "cell_type": "code",
   "execution_count": 2,
   "metadata": {},
   "outputs": [
    {
     "name": "stdout",
     "output_type": "stream",
     "text": [
      "enter a number121\n",
      "palindrome\n"
     ]
    }
   ],
   "source": [
    "n=int(input(\"enter a number\"))\n",
    "print(\"palindrome\") if(str(n)==str(n)[::-1]) else print(\"not palindrome\")"
   ]
  },
  {
   "cell_type": "code",
   "execution_count": 9,
   "metadata": {},
   "outputs": [
    {
     "name": "stdout",
     "output_type": "stream",
     "text": [
      "enter the number5\n",
      "5 * 1 = 5\n",
      "5 * 1 = 5\n",
      "5 * 2 = 10\n",
      "5 * 2 = 10\n",
      "5 * 3 = 15\n",
      "5 * 3 = 15\n",
      "5 * 4 = 20\n",
      "5 * 4 = 20\n",
      "5 * 5 = 25\n",
      "5 * 5 = 25\n",
      "5 * 6 = 30\n",
      "5 * 6 = 30\n",
      "5 * 7 = 35\n",
      "5 * 7 = 35\n",
      "5 * 8 = 40\n",
      "5 * 8 = 40\n",
      "5 * 9 = 45\n",
      "5 * 9 = 45\n",
      "5 * 10 = 50\n",
      "5 * 10 = 50\n"
     ]
    }
   ],
   "source": [
    "# Accept a number as an input and print the given number table\n",
    "# input :5\n",
    "# output :\n",
    "# 5*1=5\n",
    "# 5*2=10\n",
    "# 5*3=15\n",
    "# -------\n",
    "# 5*10=15\n",
    "n=int(input(\"enter the number\"))\n",
    "for i in range (1,11):\n",
    "    print(n,\"*\",i,\"=\",n*i)\n",
    "    print(\"%d * %d = %d\"%(n,i,n*i))\n"
   ]
  },
  {
   "cell_type": "code",
   "execution_count": 8,
   "metadata": {},
   "outputs": [
    {
     "name": "stdout",
     "output_type": "stream",
     "text": [
      "15\n",
      "1\n",
      "2\n",
      "fizz\n",
      "4\n",
      "buzz\n",
      "fizz\n",
      "7\n",
      "8\n",
      "fizz\n",
      "buzz\n",
      "11\n",
      "fizz\n",
      "13\n",
      "14\n",
      "fizzbuzz\n"
     ]
    }
   ],
   "source": [
    "# Accept a number as an input and output in the following \n",
    "# manner \n",
    "# input:15\n",
    "# output:\n",
    "\n",
    "n=int(input())\n",
    "for i in range(1,n+1):\n",
    "    if(i%3==0 and i%5==0):\n",
    "        print(\"fizzbuzz\")\n",
    "    elif(i%5==0):\n",
    "        print(\"buzz\")\n",
    "    elif(i%3==0):\n",
    "        print(\"fizz\")\n",
    "    else:\n",
    "        print(i)\n"
   ]
  },
  {
   "cell_type": "markdown",
   "metadata": {},
   "source": [
    "# Questions:\n",
    "### 1.accept a number and check whether it is a prime or not \n",
    "### 2.print the count of prime number in the given range\n",
    "### 3.accept a number and check whether it is perfect number or not\n",
    "## explanation: 6-->1,2,3=1+2+3=6\n",
    "4.accept a number and check whether it is armstrong number or not\n",
    "## explanation:153-->1^3+5^3+3^3\n",
    "5.find the factorial of a given number\n",
    "6.accept a number and check whether it is strong number or not\n",
    "## explanation:145=1!+4!+5!=1+24+120=145\n",
    "7.accept a number and check whether it is adam number or not\n",
    "## explanation:12-->12^2=144\n",
    "## 21*21=441\n",
    "### reverse(144)=441\n",
    "8.print all the palindrome numbers in the given range"
   ]
  },
  {
   "cell_type": "code",
   "execution_count": 10,
   "metadata": {},
   "outputs": [
    {
     "name": "stdout",
     "output_type": "stream",
     "text": [
      "enter any number5\n",
      "5 is a prime number\n"
     ]
    }
   ],
   "source": [
    "n=int(input(\"enter any number\"))\n",
    "if n>1:\n",
    "    for i in range(2,n):\n",
    "        if (n%i==0):\n",
    "            print(n,\"is not a prime number \")\n",
    "            break\n",
    "    else:\n",
    "        print(n,\"is a prime number\")\n",
    "else:\n",
    "    print(n,\"is not a prime number\")"
   ]
  },
  {
   "cell_type": "code",
   "execution_count": null,
   "metadata": {},
   "outputs": [],
   "source": []
  }
 ],
 "metadata": {
  "kernelspec": {
   "display_name": "Python 3",
   "language": "python",
   "name": "python3"
  },
  "language_info": {
   "codemirror_mode": {
    "name": "ipython",
    "version": 3
   },
   "file_extension": ".py",
   "mimetype": "text/x-python",
   "name": "python",
   "nbconvert_exporter": "python",
   "pygments_lexer": "ipython3",
   "version": "3.7.4"
  }
 },
 "nbformat": 4,
 "nbformat_minor": 2
}
